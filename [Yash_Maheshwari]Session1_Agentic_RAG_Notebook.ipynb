{
  "cells": [
    {
      "cell_type": "markdown",
      "metadata": {
        "id": "view-in-github",
        "colab_type": "text"
      },
      "source": [
        "<a href=\"https://colab.research.google.com/github/YashDangra/Maven_RAG/blob/main/%5BYash_Maheshwari%5DSession1_Agentic_RAG_Notebook.ipynb\" target=\"_parent\"><img src=\"https://colab.research.google.com/assets/colab-badge.svg\" alt=\"Open In Colab\"/></a>"
      ]
    },
    {
      "cell_type": "markdown",
      "source": [
        "# Deep Dive Agentic Retrieval Augmented Generation\n",
        "\n",
        "An Agentic RAG is required when we use reasoning to determine which action(s) to take and in which order to take them. Essentially we use agents instead of a LLM directly to accomplish a set of tasks which requires planning, multi step reasoning, tool use and/or learning over time. Agents give us agency!\n",
        "\n",
        "Agency : The ability to take action or to choose what action to take\n",
        "\n",
        "In the context of RAG, we can plug in agents to enhance the reasoning prior to selection of RAG pipelines, within a RAG pipeline for retrieval or reranking and finally for synthesising before we send out the response. This improves RAG to a large extent by automating complex workflows and decisions that are required for a non trivial RAG use case.\n",
        "\n",
        "### Purpose of this Agentic RAG\n",
        "This notebook presents a practical implementation of Agentic Retrieval-Augmented Generation (RAG)—a system where decision-making and tool selection are delegated to an intelligent agent before executing a response. Rather than passing every query through a static RAG pipeline, this system introduces agency—the ability to choose the best course of action depending on the nature of the query.\n",
        "\n",
        "At the heart of this implementation is a router prompt, which classifies user queries into one of three categories:\n",
        "\n",
        "- OpenAI documentation: Queries related to tools, APIs, or usage guidelines for OpenAI models\n",
        "- 10-K financial reports: Questions requiring retrieval from company filings or financial datasets\n",
        "- Live Internet search: Broader, current, or comparative queries that need web access\n",
        "\n",
        "Once the query is classified, the system invokes a corresponding route handler:\n",
        "\n",
        "- For OpenAI and 10-K queries, it retrieves relevant context from a vector database (Qdrant) using text embeddings, then applies a RAG-based response generator.\n",
        "- For Internet queries, it fetches real-time information using a web-access API (ARES).\n",
        "\n",
        "This approach is an example of Agentic RAG, where reasoning precedes retrieval and generation. By plugging in agents before and within the RAG pipeline, we make the system smarter and more adaptive. This allows us to:\n",
        "\n",
        "- Automatically choose the right retrieval method based on context\n",
        "- Combine structured knowledge with real-time search\n",
        "- Scale RAG beyond trivial use cases by integrating multi-step decision logic\n",
        "\n",
        "Importantly, no external agentic frameworks are used—this is a ground-up implementation that demonstrates how to build a lightweight but intelligent agentic system using only a language model, prompt engineering, and retrieval tools."
      ],
      "metadata": {
        "id": "mJ9XHTOPUCav"
      }
    },
    {
      "cell_type": "markdown",
      "source": [
        "## Setup and Dependencies"
      ],
      "metadata": {
        "id": "haelye0PUbdX"
      }
    },
    {
      "cell_type": "code",
      "source": [
        "!pip install qdrant_client\n"
      ],
      "metadata": {
        "colab": {
          "base_uri": "https://localhost:8080/"
        },
        "id": "LvtelCX1Q7zM",
        "outputId": "17d570ed-472c-4d5d-a54d-c1ae7691d690"
      },
      "execution_count": 2,
      "outputs": [
        {
          "output_type": "stream",
          "name": "stdout",
          "text": [
            "Requirement already satisfied: qdrant_client in /usr/local/lib/python3.11/dist-packages (1.14.2)\n",
            "Requirement already satisfied: grpcio>=1.41.0 in /usr/local/lib/python3.11/dist-packages (from qdrant_client) (1.71.0)\n",
            "Requirement already satisfied: httpx>=0.20.0 in /usr/local/lib/python3.11/dist-packages (from httpx[http2]>=0.20.0->qdrant_client) (0.28.1)\n",
            "Requirement already satisfied: numpy>=1.21 in /usr/local/lib/python3.11/dist-packages (from qdrant_client) (2.0.2)\n",
            "Requirement already satisfied: portalocker<3.0.0,>=2.7.0 in /usr/local/lib/python3.11/dist-packages (from qdrant_client) (2.10.1)\n",
            "Requirement already satisfied: protobuf>=3.20.0 in /usr/local/lib/python3.11/dist-packages (from qdrant_client) (5.29.4)\n",
            "Requirement already satisfied: pydantic!=2.0.*,!=2.1.*,!=2.2.0,>=1.10.8 in /usr/local/lib/python3.11/dist-packages (from qdrant_client) (2.11.4)\n",
            "Requirement already satisfied: urllib3<3,>=1.26.14 in /usr/local/lib/python3.11/dist-packages (from qdrant_client) (2.4.0)\n",
            "Requirement already satisfied: anyio in /usr/local/lib/python3.11/dist-packages (from httpx>=0.20.0->httpx[http2]>=0.20.0->qdrant_client) (4.9.0)\n",
            "Requirement already satisfied: certifi in /usr/local/lib/python3.11/dist-packages (from httpx>=0.20.0->httpx[http2]>=0.20.0->qdrant_client) (2025.4.26)\n",
            "Requirement already satisfied: httpcore==1.* in /usr/local/lib/python3.11/dist-packages (from httpx>=0.20.0->httpx[http2]>=0.20.0->qdrant_client) (1.0.9)\n",
            "Requirement already satisfied: idna in /usr/local/lib/python3.11/dist-packages (from httpx>=0.20.0->httpx[http2]>=0.20.0->qdrant_client) (3.10)\n",
            "Requirement already satisfied: h11>=0.16 in /usr/local/lib/python3.11/dist-packages (from httpcore==1.*->httpx>=0.20.0->httpx[http2]>=0.20.0->qdrant_client) (0.16.0)\n",
            "Requirement already satisfied: h2<5,>=3 in /usr/local/lib/python3.11/dist-packages (from httpx[http2]>=0.20.0->qdrant_client) (4.2.0)\n",
            "Requirement already satisfied: annotated-types>=0.6.0 in /usr/local/lib/python3.11/dist-packages (from pydantic!=2.0.*,!=2.1.*,!=2.2.0,>=1.10.8->qdrant_client) (0.7.0)\n",
            "Requirement already satisfied: pydantic-core==2.33.2 in /usr/local/lib/python3.11/dist-packages (from pydantic!=2.0.*,!=2.1.*,!=2.2.0,>=1.10.8->qdrant_client) (2.33.2)\n",
            "Requirement already satisfied: typing-extensions>=4.12.2 in /usr/local/lib/python3.11/dist-packages (from pydantic!=2.0.*,!=2.1.*,!=2.2.0,>=1.10.8->qdrant_client) (4.13.2)\n",
            "Requirement already satisfied: typing-inspection>=0.4.0 in /usr/local/lib/python3.11/dist-packages (from pydantic!=2.0.*,!=2.1.*,!=2.2.0,>=1.10.8->qdrant_client) (0.4.0)\n",
            "Requirement already satisfied: hyperframe<7,>=6.1 in /usr/local/lib/python3.11/dist-packages (from h2<5,>=3->httpx[http2]>=0.20.0->qdrant_client) (6.1.0)\n",
            "Requirement already satisfied: hpack<5,>=4.1 in /usr/local/lib/python3.11/dist-packages (from h2<5,>=3->httpx[http2]>=0.20.0->qdrant_client) (4.1.0)\n",
            "Requirement already satisfied: sniffio>=1.1 in /usr/local/lib/python3.11/dist-packages (from anyio->httpx>=0.20.0->httpx[http2]>=0.20.0->qdrant_client) (1.3.1)\n"
          ]
        }
      ]
    },
    {
      "cell_type": "code",
      "source": [
        "!pip install openai\n"
      ],
      "metadata": {
        "colab": {
          "base_uri": "https://localhost:8080/"
        },
        "id": "dM-Jc_-QRBCQ",
        "outputId": "484fdf9e-a7db-4a07-927a-2eac9856e2c0"
      },
      "execution_count": 3,
      "outputs": [
        {
          "output_type": "stream",
          "name": "stdout",
          "text": [
            "Requirement already satisfied: openai in /usr/local/lib/python3.11/dist-packages (1.76.2)\n",
            "Requirement already satisfied: anyio<5,>=3.5.0 in /usr/local/lib/python3.11/dist-packages (from openai) (4.9.0)\n",
            "Requirement already satisfied: distro<2,>=1.7.0 in /usr/local/lib/python3.11/dist-packages (from openai) (1.9.0)\n",
            "Requirement already satisfied: httpx<1,>=0.23.0 in /usr/local/lib/python3.11/dist-packages (from openai) (0.28.1)\n",
            "Requirement already satisfied: jiter<1,>=0.4.0 in /usr/local/lib/python3.11/dist-packages (from openai) (0.9.0)\n",
            "Requirement already satisfied: pydantic<3,>=1.9.0 in /usr/local/lib/python3.11/dist-packages (from openai) (2.11.4)\n",
            "Requirement already satisfied: sniffio in /usr/local/lib/python3.11/dist-packages (from openai) (1.3.1)\n",
            "Requirement already satisfied: tqdm>4 in /usr/local/lib/python3.11/dist-packages (from openai) (4.67.1)\n",
            "Requirement already satisfied: typing-extensions<5,>=4.11 in /usr/local/lib/python3.11/dist-packages (from openai) (4.13.2)\n",
            "Requirement already satisfied: idna>=2.8 in /usr/local/lib/python3.11/dist-packages (from anyio<5,>=3.5.0->openai) (3.10)\n",
            "Requirement already satisfied: certifi in /usr/local/lib/python3.11/dist-packages (from httpx<1,>=0.23.0->openai) (2025.4.26)\n",
            "Requirement already satisfied: httpcore==1.* in /usr/local/lib/python3.11/dist-packages (from httpx<1,>=0.23.0->openai) (1.0.9)\n",
            "Requirement already satisfied: h11>=0.16 in /usr/local/lib/python3.11/dist-packages (from httpcore==1.*->httpx<1,>=0.23.0->openai) (0.16.0)\n",
            "Requirement already satisfied: annotated-types>=0.6.0 in /usr/local/lib/python3.11/dist-packages (from pydantic<3,>=1.9.0->openai) (0.7.0)\n",
            "Requirement already satisfied: pydantic-core==2.33.2 in /usr/local/lib/python3.11/dist-packages (from pydantic<3,>=1.9.0->openai) (2.33.2)\n",
            "Requirement already satisfied: typing-inspection>=0.4.0 in /usr/local/lib/python3.11/dist-packages (from pydantic<3,>=1.9.0->openai) (0.4.0)\n"
          ]
        }
      ]
    },
    {
      "cell_type": "code",
      "execution_count": 4,
      "metadata": {
        "collapsed": true,
        "id": "HciDI6OpSKJN",
        "colab": {
          "base_uri": "https://localhost:8080/"
        },
        "outputId": "ed9c507f-8be7-4f67-9679-779868f39f64"
      },
      "outputs": [
        {
          "output_type": "stream",
          "name": "stdout",
          "text": [
            "Requirement already satisfied: transformers in /usr/local/lib/python3.11/dist-packages (4.51.3)\n",
            "Requirement already satisfied: filelock in /usr/local/lib/python3.11/dist-packages (from transformers) (3.18.0)\n",
            "Requirement already satisfied: huggingface-hub<1.0,>=0.30.0 in /usr/local/lib/python3.11/dist-packages (from transformers) (0.30.2)\n",
            "Requirement already satisfied: numpy>=1.17 in /usr/local/lib/python3.11/dist-packages (from transformers) (2.0.2)\n",
            "Requirement already satisfied: packaging>=20.0 in /usr/local/lib/python3.11/dist-packages (from transformers) (24.2)\n",
            "Requirement already satisfied: pyyaml>=5.1 in /usr/local/lib/python3.11/dist-packages (from transformers) (6.0.2)\n",
            "Requirement already satisfied: regex!=2019.12.17 in /usr/local/lib/python3.11/dist-packages (from transformers) (2024.11.6)\n",
            "Requirement already satisfied: requests in /usr/local/lib/python3.11/dist-packages (from transformers) (2.32.3)\n",
            "Requirement already satisfied: tokenizers<0.22,>=0.21 in /usr/local/lib/python3.11/dist-packages (from transformers) (0.21.1)\n",
            "Requirement already satisfied: safetensors>=0.4.3 in /usr/local/lib/python3.11/dist-packages (from transformers) (0.5.3)\n",
            "Requirement already satisfied: tqdm>=4.27 in /usr/local/lib/python3.11/dist-packages (from transformers) (4.67.1)\n",
            "Requirement already satisfied: fsspec>=2023.5.0 in /usr/local/lib/python3.11/dist-packages (from huggingface-hub<1.0,>=0.30.0->transformers) (2025.3.2)\n",
            "Requirement already satisfied: typing-extensions>=3.7.4.3 in /usr/local/lib/python3.11/dist-packages (from huggingface-hub<1.0,>=0.30.0->transformers) (4.13.2)\n",
            "Requirement already satisfied: charset-normalizer<4,>=2 in /usr/local/lib/python3.11/dist-packages (from requests->transformers) (3.4.1)\n",
            "Requirement already satisfied: idna<4,>=2.5 in /usr/local/lib/python3.11/dist-packages (from requests->transformers) (3.10)\n",
            "Requirement already satisfied: urllib3<3,>=1.21.1 in /usr/local/lib/python3.11/dist-packages (from requests->transformers) (2.4.0)\n",
            "Requirement already satisfied: certifi>=2017.4.17 in /usr/local/lib/python3.11/dist-packages (from requests->transformers) (2025.4.26)\n"
          ]
        }
      ],
      "source": [
        "# Install the necessary libraries\n",
        "!pip install transformers\n"
      ]
    },
    {
      "cell_type": "code",
      "source": [
        "# Import basic libraries\n",
        "import requests             # Used for making HTTP requests (e.g., calling ARES API for live internet queries)\n",
        "import json                 # For parsing and structuring JSON data (especially OpenAI and routing responses)\n",
        "\n",
        "# Google Colab-specific (for securely handling API keys)\n",
        "from google.colab import userdata  # To securely store and retrieve credentials in Colab\n",
        "\n",
        "# OS operations\n",
        "import os                   # Useful for accessing environment variables and managing paths\n",
        "\n",
        "# OpenAI API client\n",
        "from openai import OpenAI   # Official OpenAI client library to interface with GPT models for routing and generation\n",
        "\n",
        "# Text processing\n",
        "import re                   # Regular expressions for cleaning or preprocessing inputs (if needed)\n",
        "\n",
        "# Optional visualization (for analysis/debugging purposes)\n",
        "import matplotlib.pyplot as plt       # For displaying charts or visual debug outputs (e.g., embeddings visualizations)\n",
        "import matplotlib.image as mpimg      # For loading/displaying images if needed (rare in RAG, but helpful in demos)\n",
        "\n",
        "# Embedding models (used for text vectorization during retrieval)\n",
        "from transformers import AutoTokenizer, AutoModel  # For loading custom transformer models if not using OpenAI embeddings\n",
        "\n",
        "# Vector database client\n",
        "from qdrant_client import QdrantClient   # Qdrant is used as the vector store to retrieve documents based on similarity\n"
      ],
      "metadata": {
        "id": "J7xIyE7iyI63"
      },
      "execution_count": 5,
      "outputs": []
    },
    {
      "cell_type": "markdown",
      "source": [
        "## 1. Defining the Internet Tool\n",
        "\n",
        "First, we will define a tool function that enables our system to answer queries requiring real-time, internet-based information. Not all questions can be answered using static documents like OpenAI docs or financial filings—sometimes users ask about current trends, comparisons, or live updates.\n",
        "\n",
        "To handle this, we introduce a live search capability using the **ARES API** by Traversaal.\n",
        "\n",
        "### What is ARES API?  \n",
        "ARES is a web-based tool that allows you to:\n",
        "\n",
        "- Search the internet in real time.\n",
        "- Get LLM-generated answers based on live search results.\n",
        "\n",
        "This is particularly useful for questions about:\n",
        "\n",
        "- Current events (e.g., *“Latest AI tools in 2025”*),\n",
        "- Tech comparisons (e.g., *“Gemini vs GPT-4”*),\n",
        "- General knowledge outside internal datasets.\n",
        "\n",
        "Please generate the API key [here](https://api.traversaal.ai)\n"
      ],
      "metadata": {
        "id": "JE6Bf6r19qhn"
      }
    },
    {
      "cell_type": "code",
      "execution_count": 6,
      "metadata": {
        "id": "1PydVhqpW43B"
      },
      "outputs": [],
      "source": [
        "#loads ares api key from colab secrets\n",
        "ares_api_key=userdata.get('ares_api_key')"
      ]
    },
    {
      "cell_type": "code",
      "execution_count": 7,
      "metadata": {
        "id": "6tF67DJgZ_sz"
      },
      "outputs": [],
      "source": [
        "import requests  # For sending HTTP POST requests to the ARES API\n",
        "\n",
        "def get_internet_content(user_query: str, action: str):\n",
        "    \"\"\"\n",
        "    Fetches a response from the internet using ARES-API based on the user's query.\n",
        "\n",
        "    This function serves as the tool invoked when the router classifies a query\n",
        "    as requiring real-time information beyond internal datasets—i.e., \"INTERNET_QUERY\".\n",
        "    It sends the query to a live search API (ARES) and returns the result.\n",
        "\n",
        "    Args:\n",
        "        user_query (str): The user's question that needs a live answer.\n",
        "        action (str): Route type (always expected to be \"INTERNET_QUERY\").\n",
        "\n",
        "    Returns:\n",
        "        str: Response text generated using internet search or an error message.\n",
        "    \"\"\"\n",
        "    print(\"Getting your response from the internet 🌐 ...\")\n",
        "\n",
        "    # API endpoint for the ARES live search tool\n",
        "    url = \"https://api-ares.traversaal.ai/live/predict\"\n",
        "\n",
        "    # Payload structure expected by the ARES API\n",
        "    payload = {\"query\": [user_query]}\n",
        "\n",
        "    # Authentication and content headers for API access\n",
        "    headers = {\n",
        "        \"x-api-key\": ares_api_key,  # Your secret API key (should be securely loaded from environment)\n",
        "        \"content-type\": \"application/json\"\n",
        "    }\n",
        "\n",
        "    try:\n",
        "        # Send the query to the ARES API and check for success\n",
        "        response = requests.post(url, json=payload, headers=headers)\n",
        "        response.raise_for_status()\n",
        "\n",
        "        # Extract and return the main response text from the API's nested JSON\n",
        "        return response.json().get('data', {}).get('response_text', \"No response received.\")\n",
        "\n",
        "    # Handle HTTP-level errors (e.g., 400s or 500s)\n",
        "    except requests.exceptions.HTTPError as http_err:\n",
        "        return f\"HTTP error occurred: {http_err}\"\n",
        "\n",
        "    # Handle general connection, timeout, or request formatting issues\n",
        "    except requests.exceptions.RequestException as req_err:\n",
        "        return f\"Request error occurred: {req_err}\"\n",
        "\n",
        "    # Catch-all for any unexpected failure\n",
        "    except Exception as err:\n",
        "        return f\"An unexpected error occurred: {err}\"\n"
      ]
    },
    {
      "cell_type": "code",
      "execution_count": null,
      "metadata": {
        "id": "USRVlUIVaRGM",
        "colab": {
          "base_uri": "https://localhost:8080/"
        },
        "outputId": "a295386c-1db5-49b5-b442-5b183827df86"
      },
      "outputs": [
        {
          "output_type": "stream",
          "name": "stdout",
          "text": [
            "Getting your response from the internet 🌐 ...\n",
            "Here are some of the best travel destinations for 2025:\n",
            "\n",
            "1. **Budapest, Hungary** - Known for its stunning architecture and rich history, Budapest offers a vibrant cultural scene and beautiful thermal baths.\n",
            "\n",
            "2. **Bukhara, Uzbekistan** - A UNESCO World Heritage site, Bukhara is famous for its well-preserved medieval architecture and historical significance along the Silk Road.\n",
            "\n",
            "3. **Charleston, South Carolina, USA** - This charming city is celebrated for its historic homes, cobblestone streets, and rich Southern culture.\n",
            "\n",
            "4. **Inverness and the Flow Country, Scotland** - A gateway to the Scottish Highlands, Inverness is perfect for nature lovers and those seeking tranquility.\n",
            "\n",
            "5. **Seoul, South Korea** - A bustling metropolis that blends modernity with tradition, offering a unique culinary scene and vibrant nightlife.\n",
            "\n",
            "6. **Kathmandu, Nepal** - Known for its rich history and as a starting point for treks in the Himalayas, Kathmandu is a cultural hub.\n",
            "\n",
            "7. **Cusco, Peru** - The historic capital of the Inca Empire, Cusco is a gateway to Machu Picchu and offers a mix of indigenous and colonial history.\n",
            "\n",
            "8. **Bangkok, Thailand** - A vibrant city known for its street food, cultural landmarks, and bustling markets.\n",
            "\n",
            "9. **Osaka, Japan** - Famous for its modern architecture, nightlife, and delicious street food, Osaka is a must-visit for food lovers.\n",
            "\n",
            "10. **Dubai, UAE** - Known for luxury shopping, ultramodern architecture, and a lively nightlife scene.\n",
            "\n",
            "11. **Mauritius** - An island nation known for its stunning beaches, diverse culture, and lush landscapes.\n",
            "\n",
            "12. **Bali, Indonesia** - A popular destination for its beautiful beaches, vibrant culture, and wellness retreats.\n",
            "\n",
            "13. **Maldives** - Renowned for its crystal-clear waters and luxurious resorts, perfect for relaxation and romance.\n",
            "\n",
            "14. **Hoi An, Vietnam** - A well-preserved ancient town known for its historic architecture and vibrant lantern festivals.\n",
            "\n",
            "15. **Phuket, Thailand** - Famous for its beautiful beaches, nightlife, and water activities.\n",
            "\n",
            "16. **Santorini, Greece** - Known for its stunning sunsets, white-washed buildings, and beautiful beaches.\n",
            "\n",
            "17. **Zanzibar, Tanzania** - An exotic island known for its beautiful beaches, rich history, and spice plantations.\n",
            "\n",
            "18. **Dominica** - Known for its natural beauty, including rainforests, waterfalls, and hot springs.\n",
            "\n",
            "19. **Naoshima, Japan** - An island dedicated to contemporary art, featuring museums and installations.\n",
            "\n",
            "20. **The Dolomites, Italy** - A mountain range known for its stunning scenery, perfect for hiking and skiing.\n",
            "\n",
            "21. **Greenland** - Offers breathtaking landscapes and unique opportunities for adventure tourism.\n",
            "\n",
            "22. **Wales** - Known for its rugged coastline, beautiful national parks, and rich history.\n",
            "\n",
            "These destinations offer a mix of cultural experiences, natural beauty, and adventure, making them ideal for travelers in 2025.\n"
          ]
        }
      ],
      "source": [
        "print(get_internet_content(\"Tell me about best travel destinations in 2025?\",\"INTERNET_QUERY\")) #run internet function to test results"
      ]
    },
    {
      "cell_type": "markdown",
      "metadata": {
        "id": "ocV_ALVEaRi0"
      },
      "source": [
        "## 2. Router Query Function — Giving the Agent Its Brain\n",
        "\n",
        "In this step, we will define the router function, which plays a critical role in our Agentic RAG system.\n",
        "\n",
        "### What is a Router?\n",
        "\n",
        "A router is like the decision-making brain of our assistant.\n",
        "\n",
        "Before trying to answer a user's question, the system first needs to figure out:\n",
        "\n",
        "> “Where should I go to find the right answer?”\n",
        "\n",
        "To make this decision, we use the OpenAI GPT model. We provide it with a detailed system prompt that explains how to classify the user's question into one of these categories:\n",
        "\n",
        "- **OPENAI_QUERY** → Questions about OpenAI tools, APIs, models, or documentation.\n",
        "- **10K_DOCUMENT_QUERY** → Questions about companies, financial filings, or analysis based on 10-K reports.\n",
        "- **INTERNET_QUERY** → Anything else that likely requires real-time or general web information.\n",
        "\n",
        "### What does the function do?\n",
        "\n",
        "- Sends the user's question to the OpenAI API.\n",
        "- Receives a JSON response containing:\n",
        "  - `action`: The category the query belongs to.\n",
        "  - `reason`: A short explanation for the decision.\n",
        "  - `answer`: (Optional) A quick response if it’s simple enough (left blank for internet queries).\n",
        "- Parses the response and returns it as a Python dictionary.\n",
        "\n",
        "### Why is this important?\n",
        "\n",
        "This router gives the system agency—the ability to decide which knowledge source to use. It’s what makes this pipeline agentic, not just static.\n",
        "\n",
        "Without the router, every query would follow the same path. With it, we can:\n",
        "\n",
        "- Dynamically switch between tools and data sources.\n",
        "- Handle different types of user questions intelligently.\n",
        "- Avoid wasting resources on unnecessary steps.\n"
      ]
    },
    {
      "cell_type": "code",
      "source": [
        "# Securely retrieve the OpenAI API key from Colab's user data store\n",
        "# This avoids hardcoding sensitive credentials directly in the notebook\n",
        "openai_api_key = userdata.get('openai_api_key')\n",
        "\n",
        "# Initialize the OpenAI client with the retrieved API key\n",
        "# This client will be used for:\n",
        "# - Query classification via the router prompt\n",
        "# - Potentially generating responses from retrieved context\n",
        "openaiclient = OpenAI(api_key=openai_api_key)\n"
      ],
      "metadata": {
        "id": "Bce4h1DG1mW8"
      },
      "execution_count": 41,
      "outputs": []
    },
    {
      "cell_type": "code",
      "source": [
        "from openai import OpenAIError\n",
        "\n",
        "def route_query(user_query: str):\n",
        "    router_system_prompt =f\"\"\"\n",
        "    As a professional query router, your objective is to correctly classify user input into one of three categories based on the source most relevant for answering the query:\n",
        "    1. \"OPENAI_QUERY\": If the user's query appears to be answerable using information from OpenAI's official documentation, tools, models, APIs, or services (e.g., GPT, ChatGPT, embeddings, moderation API, usage guidelines).\n",
        "    2. \"10K_DOCUMENT_QUERY\": If the user's query pertains to a collection of documents from the 10k annual reports, datasets, or other structured documents, typically for research, analysis, or financial content.\n",
        "    3. \"INTERNET_QUERY\": If the query is neither related to OpenAI nor the 10k documents specifically, or if the information might require a broader search (e.g., news, trends, tools outside these platforms), route it here.\n",
        "\n",
        "    Your decision should be made by assessing the domain of the query.\n",
        "\n",
        "    Always respond in this valid JSON format:\n",
        "    {{\n",
        "        \"action\": \"OPENAI_QUERY\" or \"10K_DOCUMENT_QUERY\" or \"INTERNET_QUERY\",\n",
        "        \"reason\": \"brief justification\",\n",
        "        \"answer\": \"AT MAX 5 words answer. Leave empty if INTERNET_QUERY\"\n",
        "    }}\n",
        "\n",
        "    EXAMPLES:\n",
        "\n",
        "    - User: \"How to fine-tune GPT-3?\"\n",
        "    Response:\n",
        "    {{\n",
        "        \"action\": \"OPENAI_QUERY\",\n",
        "        \"reason\": \"Fine-tuning is OpenAI-specific\",\n",
        "        \"answer\": \"Use fine-tuning API\"\n",
        "    }}\n",
        "\n",
        "    - User: \"Where can I find the latest financial reports for the last 10 years?\"\n",
        "    Response:\n",
        "    {{\n",
        "        \"action\": \"10K_DOCUMENT_QUERY\",\n",
        "        \"reason\": \"Query related to annual reports\",\n",
        "        \"answer\": \"Access through document database\"\n",
        "    }}\n",
        "\n",
        "    - User: \"Top leadership styles in 2024\"\n",
        "    Response:\n",
        "    {{\n",
        "        \"action\": \"INTERNET_QUERY\",\n",
        "        \"reason\": \"Needs current leadership trends\",\n",
        "        \"answer\": \"\"\n",
        "    }}\n",
        "\n",
        "    - User: \"What's the difference between ChatGPT and Claude?\"\n",
        "    Response:\n",
        "    {{\n",
        "        \"action\": \"INTERNET_QUERY\",\n",
        "        \"reason\": \"Cross-comparison of different providers\",\n",
        "        \"answer\": \"\"\n",
        "    }}\n",
        "\n",
        "    Strictly follow this format for every query, and never deviate.\n",
        "    User: {user_query}\n",
        "    \"\"\"\n",
        "\n",
        "    try:\n",
        "        # Query the GPT-4 model with the router prompt and user input\n",
        "        response = openaiclient.chat.completions.create(\n",
        "            model=\"gpt-4.1-nano\",\n",
        "            messages=[{\"role\": \"system\", \"content\": router_system_prompt}]\n",
        "        )\n",
        "     #   print(f\" RESPONSE:{response}\")\n",
        "\n",
        "\n",
        "        # Extract and parse the model's JSON response\n",
        "        task_response = response.choices[0].message.content\n",
        "     #   print(f\" task_response:{task_response}\")\n",
        "        json_match = re.search(r\"\\{.*\\}\", task_response, re.DOTALL)\n",
        "      #  print(f\" json_match:{json_match}\")\n",
        "        json_text = json_match.group()\n",
        "      #  print(f\" json_text:{json_text}\")\n",
        "        parsed_response = json.loads(json_text)\n",
        "       # print(f\" parsed_response:{parsed_response}\")\n",
        "        return parsed_response\n",
        "\n",
        "    # Handle OpenAI API errors (e.g., rate limits, authentication)\n",
        "    except OpenAIError as api_err:\n",
        "        return {\n",
        "            \"action\": \"INTERNET_QUERY\",\n",
        "            \"reason\": f\"OpenAI API error: {api_err}\",\n",
        "            \"answer\": \"\"\n",
        "        }\n",
        "\n",
        "    # Handle case where model response isn't valid JSON\n",
        "    except json.JSONDecodeError as json_err:\n",
        "        return {\n",
        "            \"action\": \"INTERNET_QUERY\",\n",
        "            \"reason\": f\"JSON parsing error: {json_err}\",\n",
        "            \"answer\": \"\"\n",
        "        }\n",
        "\n",
        "    # Catch-all for any other unforeseen issues\n",
        "    except Exception as err:\n",
        "        return {\n",
        "            \"action\": \"INTERNET_QUERY\",\n",
        "            \"reason\": f\"Unexpected error: {err}\",\n",
        "            \"answer\": \"\"\n",
        "        }"
      ],
      "metadata": {
        "id": "5bBt3L8qijeb"
      },
      "execution_count": 28,
      "outputs": []
    },
    {
      "cell_type": "code",
      "source": [
        "# route_query(\"what is the revenue of uber in 2021?\")response.get(\"action\")\n"
      ],
      "metadata": {
        "id": "5ilSsVBBv-KT"
      },
      "execution_count": null,
      "outputs": []
    },
    {
      "cell_type": "code",
      "source": [
        "response = route_query(\"what is the revenue of uber in 2021?\")\n",
        "response\n"
      ],
      "metadata": {
        "colab": {
          "base_uri": "https://localhost:8080/"
        },
        "id": "QRIMZ49ocV4Y",
        "outputId": "a465bfc3-9945-4ee1-ff8c-14c922abb7d7"
      },
      "execution_count": 38,
      "outputs": [
        {
          "output_type": "execute_result",
          "data": {
            "text/plain": [
              "{'action': '10K_DOCUMENT_QUERY',\n",
              " 'reason': \"Query about company's annual revenue\",\n",
              " 'answer': '17.46 billion USD'}"
            ]
          },
          "metadata": {},
          "execution_count": 38
        }
      ]
    },
    {
      "cell_type": "markdown",
      "metadata": {
        "id": "VrkE-V4PlClH"
      },
      "source": [
        "## 3. Setting Up Qdrant Vector Database for Agentic RAG\n",
        "In this step, we are connecting our agent to a pre-built vector database using Qdrant—a tool used to store and search document embeddings (numerical representations of text).\n",
        "\n",
        "What Are We Doing?\n",
        "We are loading an existing Qdrant database that was downloaded from a GitHub repository. This database already contains:\n",
        "\n",
        "- Vectorized OpenAI documentation\n",
        "- Vectorized 10-K financial filings\n",
        "\n",
        "By loading this saved data:\n",
        "\n",
        "- We save time (no need to re-embed the documents)\n",
        "- We enable fast similarity search to retrieve relevant text chunks\n",
        "\n",
        "This setup allows our system to perform semantic search, meaning it can understand the meaning of the user query and match it with the most relevant pieces of information stored in the database.\n",
        "\n",
        "\n",
        "### Why This Matters in Agentic RAG\n",
        "Once the router decides that the query should go to the OpenAI docs or the 10-K reports, our system uses Qdrant to:\n",
        "\n",
        "- Search for the most relevant pieces of text\n",
        "- Pass those to the model to generate a grounded answer\n",
        "\n",
        "So, this step is essential to support retrieval-augmented generation (RAG) within our agentic flow."
      ]
    },
    {
      "cell_type": "markdown",
      "source": [
        "#Data Sources:\n",
        "\n",
        "**10K Database: Lyft 2024 & Uber 2021 SEC filings**\n",
        "\n",
        "**OpenAI Docs: Official OpenAI documentation**\n",
        "\n",
        "For lecture demo purposes, the vecitr database has already been created and hosted on Github which we will clone here. In order to create your own embeddings, the notebook and data will be hosted and shared on github"
      ],
      "metadata": {
        "id": "yXAXLB2eCgSn"
      }
    },
    {
      "cell_type": "code",
      "source": [
        "# Clone the project repository that contains prebuilt vector data (e.g., Qdrant collections)\n",
        "# This includes document embeddings and configurations needed for retrieval (10-K, OpenAI docs)\n",
        "!git clone https://github.com/hamzafarooq/multi-agent-course.git\n"
      ],
      "metadata": {
        "id": "suqlk9P9YJfQ",
        "colab": {
          "base_uri": "https://localhost:8080/"
        },
        "outputId": "33af7245-96f2-4c29-ecf6-0cbf01f2b719"
      },
      "execution_count": 11,
      "outputs": [
        {
          "output_type": "stream",
          "name": "stdout",
          "text": [
            "Cloning into 'multi-agent-course'...\n",
            "remote: Enumerating objects: 151, done.\u001b[K\n",
            "remote: Counting objects: 100% (151/151), done.\u001b[K\n",
            "remote: Compressing objects: 100% (115/115), done.\u001b[K\n",
            "remote: Total 151 (delta 34), reused 55 (delta 7), pack-reused 0 (from 0)\u001b[K\n",
            "Receiving objects: 100% (151/151), 4.45 MiB | 19.57 MiB/s, done.\n",
            "Resolving deltas: 100% (34/34), done.\n"
          ]
        }
      ]
    },
    {
      "cell_type": "code",
      "source": [
        "# 🗄️ Initializing Qdrant client with local path to vector database\n",
        "# The path points to prebuilt Qdrant collections (10-K and OpenAI docs) cloned from the repository\n",
        "# This enables fast, local retrieval of relevant document chunks based on semantic similarity\n",
        "client = QdrantClient(path=\"/content/multi-agent-course/Module_1/Agentic_RAG/qdrant_data\")\n"
      ],
      "metadata": {
        "id": "BB-p1nzYo91-"
      },
      "execution_count": 12,
      "outputs": []
    },
    {
      "cell_type": "markdown",
      "metadata": {
        "id": "Z90HaV0jm93H"
      },
      "source": [
        "## 4. Building the Retriever and RAG for Vector Databases\n",
        "In this section, we build the core logic that allows our agent to find relevant documents and generate grounded answers using them.\n",
        "\n",
        "###Step 1: Import the Embedding Model\n",
        "We start by importing the nomic-ai/nomic-embed-text-v1.5 model from Hugging Face. This model is used to convert any text (such as a user query) into a dense vector, known as an embedding. These embeddings capture the semantic meaning of text, allowing us to later compare and retrieve similar documents.\n"
      ]
    },
    {
      "cell_type": "code",
      "execution_count": 13,
      "metadata": {
        "id": "qM6mDo0InEji",
        "colab": {
          "base_uri": "https://localhost:8080/",
          "height": 571,
          "referenced_widgets": [
            "4e7bf0deca284dab8545efed1533f7d6",
            "4c1a2bc621f4485ca946f0b4fc7af52b",
            "3e7f1fa5e74d42c6bf172dc339d0b969",
            "8c67518742bb443cac66a4985495e783",
            "fea3ae82855f43ee96e4c1ad9080a500",
            "9fbe84e2b344425f9a9b87147c5d7624",
            "a019333bb3894a608cc61d74f138782c",
            "2b50673c8be5463fbc2eefffce26357a",
            "10fa43b614d849c69018976fe8efdf96",
            "11dbe461126d4164becfc4fe13980597",
            "d6e8e19f66f14257a032d79c1df4fa81",
            "344c9d9e67a54e23a1e3e4386b710818",
            "1a67e8aba672403f90f4bdd3977ebc15",
            "7bda39b9be4442a2b512389ae806a623",
            "66438c79ef254e3880130c95cf99c74b",
            "526ab4c5f73b416ea089794cd27b4103",
            "f5e02b1df4404e3ab54046f49476fbbc",
            "9474b65ea6534222a4b4c388cb8b60cf",
            "1ace0af81e9649b5a0ac89bf3b5951be",
            "7e13e54a701a4da2bff0d40a68c1f9fb",
            "495f310d1b1049b68363869d026e0bb2",
            "fd1e7625168049b3906c0b4f107e906d",
            "1a5bdeb3585b40589029f4f50aa79db6",
            "3602fd5404de41979920443c1e94036e",
            "d45fc124fcc3425aa6e4e7f07aa7e294",
            "edc3eb08de7b4071b081e1dfb10e982e",
            "988b8b67b3ce48cf8ddbca2b183a1ca9",
            "e8131317e8e44fa5829c5f7646d21cd5",
            "06e350fdab3c4734b5cbc47cc7b7eeb3",
            "8d9cdce35a7c47298ddd0010185fc10e",
            "f80eb296e50a4ebeabd5f35669ae1873",
            "2f1fc19e53ca41e1b934442a380b6f30",
            "b5e38e0e2d3a4e169fface84405f3dfc",
            "cf6da5f7350f4e0094a8499cde3a449f",
            "d1c1f6ab478848b1acafbcc3174ec88d",
            "95ca2f9ece9746a8b24b1cd724a690f2",
            "98cc2142d92d405b86aecd5e415e3302",
            "1f39e050340648998b6b97cc10e18a44",
            "ec7bb6eb71a2414db437e34f2b0e77f1",
            "6b64e784f0bb43c09036685e8e38390b",
            "0ab79427518140178dc36aecb253c105",
            "8e13c91d130840108dda3d5ec3def3fd",
            "43f6c7f753354f86a9c658fe31ea76e4",
            "741dbd724a244a148697ac4b6567704f",
            "2636c756f00845649641ab6df56c8fe6",
            "2084b69889554cf0beff03ded6da9f1f",
            "c527c0eba3764d099398a0ebb79e1322",
            "0c707f28f79a478cb125c420034a4f6f",
            "2a8a56576e5343fea49cf8193e9db1cb",
            "6ee697b04c264c67adadacad8334c0fa",
            "553c40ac530640338d0fc985442c1328",
            "7a3653376a6944e286447c739bb974fc",
            "d059b1f113f84a568b9e866bdcc0c73c",
            "95315b9a997b4d11b41965db76666136",
            "b78e12c9edc7482c8311052a891d1f26",
            "c2f711117dda4eaf999510d7165f4ace",
            "9664ba27ea6b437c8e46b047d51ee59b",
            "5b57058f90ca4194893a44b3dd633661",
            "0e699bbceba84a738437529fd70ea276",
            "2808c42b23564125885fa9c0033a478e",
            "e9b9089018f54ff0913e37e3e61bcca6",
            "8021a35b997647c0be88b9641834c7f7",
            "45a1f1ceb6bc4ec8af4d6131bb0b3109",
            "2c657d1747354b329c19aadf936c3f04",
            "cb4faa924fdf4a5a98cae5af62a6ef5a",
            "f6afc1a391de415dbb395c1a0f1d3153",
            "318c4ef1a0ed4afcacb66a46827a1845",
            "287c70cfd3dc4a48a9c53b0a7157ebff",
            "54c8ca21caf143de869916cf7bd00229",
            "18524a87118d483a8c61f06762f3c89c",
            "78f4e984ca124d43bd7caef830444500",
            "8f2fcc41788543c2b6b9f85004e9ba4b",
            "0020f47806014eecb7836f259669a042",
            "2e10a9862b0a478aaf09d6ea565865b4",
            "457553e887c447e583371ab70853971e",
            "739c927ab46b47c0af075ed12dcde1f1",
            "c14d3fbf35f64d1b939e0189b1c0f371",
            "a2faad86f1614b3ea7b9eb3739c0cf3d",
            "f4f8ba4de1a343059866f7ebd63af254",
            "a735f8706af742109790d36071b6428f",
            "a5873012a4874be3af7d8e50b6177d41",
            "14e6c28ff48d4d2e9af07fd6e395ff8d",
            "4a5d83c1787f480fb782d7f4d1fba9f8",
            "1a4114d6ca78403b94fc2b452f051195",
            "89f2b0b6af3b451a8cc5b8427386636f",
            "ff48c76fbfc24a77a04f208cdedf99cb",
            "2e4f469986ac4b2c93083b351b1ec4bd",
            "6eebf06255f74aa99dab9b0282a6c302"
          ]
        },
        "outputId": "e63f81f4-b313-43ac-9545-4639939dd6bd"
      },
      "outputs": [
        {
          "output_type": "stream",
          "name": "stderr",
          "text": [
            "/usr/local/lib/python3.11/dist-packages/huggingface_hub/utils/_auth.py:94: UserWarning: \n",
            "The secret `HF_TOKEN` does not exist in your Colab secrets.\n",
            "To authenticate with the Hugging Face Hub, create a token in your settings tab (https://huggingface.co/settings/tokens), set it as secret in your Google Colab and restart your session.\n",
            "You will be able to reuse this secret in all of your notebooks.\n",
            "Please note that authentication is recommended but still optional to access public models or datasets.\n",
            "  warnings.warn(\n"
          ]
        },
        {
          "output_type": "display_data",
          "data": {
            "text/plain": [
              "tokenizer_config.json:   0%|          | 0.00/1.19k [00:00<?, ?B/s]"
            ],
            "application/vnd.jupyter.widget-view+json": {
              "version_major": 2,
              "version_minor": 0,
              "model_id": "4e7bf0deca284dab8545efed1533f7d6"
            }
          },
          "metadata": {}
        },
        {
          "output_type": "display_data",
          "data": {
            "text/plain": [
              "vocab.txt:   0%|          | 0.00/232k [00:00<?, ?B/s]"
            ],
            "application/vnd.jupyter.widget-view+json": {
              "version_major": 2,
              "version_minor": 0,
              "model_id": "344c9d9e67a54e23a1e3e4386b710818"
            }
          },
          "metadata": {}
        },
        {
          "output_type": "display_data",
          "data": {
            "text/plain": [
              "tokenizer.json:   0%|          | 0.00/711k [00:00<?, ?B/s]"
            ],
            "application/vnd.jupyter.widget-view+json": {
              "version_major": 2,
              "version_minor": 0,
              "model_id": "1a5bdeb3585b40589029f4f50aa79db6"
            }
          },
          "metadata": {}
        },
        {
          "output_type": "display_data",
          "data": {
            "text/plain": [
              "special_tokens_map.json:   0%|          | 0.00/695 [00:00<?, ?B/s]"
            ],
            "application/vnd.jupyter.widget-view+json": {
              "version_major": 2,
              "version_minor": 0,
              "model_id": "cf6da5f7350f4e0094a8499cde3a449f"
            }
          },
          "metadata": {}
        },
        {
          "output_type": "display_data",
          "data": {
            "text/plain": [
              "config.json:   0%|          | 0.00/2.06k [00:00<?, ?B/s]"
            ],
            "application/vnd.jupyter.widget-view+json": {
              "version_major": 2,
              "version_minor": 0,
              "model_id": "2636c756f00845649641ab6df56c8fe6"
            }
          },
          "metadata": {}
        },
        {
          "output_type": "display_data",
          "data": {
            "text/plain": [
              "configuration_hf_nomic_bert.py:   0%|          | 0.00/1.96k [00:00<?, ?B/s]"
            ],
            "application/vnd.jupyter.widget-view+json": {
              "version_major": 2,
              "version_minor": 0,
              "model_id": "c2f711117dda4eaf999510d7165f4ace"
            }
          },
          "metadata": {}
        },
        {
          "output_type": "stream",
          "name": "stderr",
          "text": [
            "A new version of the following files was downloaded from https://huggingface.co/nomic-ai/nomic-bert-2048:\n",
            "- configuration_hf_nomic_bert.py\n",
            ". Make sure to double-check they do not contain any added malicious code. To avoid downloading new versions of the code file, you can pin a revision.\n"
          ]
        },
        {
          "output_type": "display_data",
          "data": {
            "text/plain": [
              "modeling_hf_nomic_bert.py:   0%|          | 0.00/104k [00:00<?, ?B/s]"
            ],
            "application/vnd.jupyter.widget-view+json": {
              "version_major": 2,
              "version_minor": 0,
              "model_id": "318c4ef1a0ed4afcacb66a46827a1845"
            }
          },
          "metadata": {}
        },
        {
          "output_type": "stream",
          "name": "stderr",
          "text": [
            "A new version of the following files was downloaded from https://huggingface.co/nomic-ai/nomic-bert-2048:\n",
            "- modeling_hf_nomic_bert.py\n",
            ". Make sure to double-check they do not contain any added malicious code. To avoid downloading new versions of the code file, you can pin a revision.\n",
            "Xet Storage is enabled for this repo, but the 'hf_xet' package is not installed. Falling back to regular HTTP download. For better performance, install the package with: `pip install huggingface_hub[hf_xet]` or `pip install hf_xet`\n",
            "WARNING:huggingface_hub.file_download:Xet Storage is enabled for this repo, but the 'hf_xet' package is not installed. Falling back to regular HTTP download. For better performance, install the package with: `pip install huggingface_hub[hf_xet]` or `pip install hf_xet`\n"
          ]
        },
        {
          "output_type": "display_data",
          "data": {
            "text/plain": [
              "model.safetensors:   0%|          | 0.00/547M [00:00<?, ?B/s]"
            ],
            "application/vnd.jupyter.widget-view+json": {
              "version_major": 2,
              "version_minor": 0,
              "model_id": "a2faad86f1614b3ea7b9eb3739c0cf3d"
            }
          },
          "metadata": {}
        },
        {
          "output_type": "stream",
          "name": "stderr",
          "text": [
            "WARNING:transformers_modules.nomic-ai.nomic-bert-2048.7710840340a098cfb869c4f65e87cf2b1b70caca.modeling_hf_nomic_bert:<All keys matched successfully>\n"
          ]
        },
        {
          "output_type": "stream",
          "name": "stdout",
          "text": [
            "[ 1.2799692   0.40158355 -3.5162656  -0.3981321   1.5919138 ]\n"
          ]
        }
      ],
      "source": [
        "# Load the tokenizer and embedding model from Hugging Face\n",
        "# This model converts raw text into dense vector representations (embeddings)\n",
        "# Used for similarity search in Qdrant during document retrieval\n",
        "text_tokenizer = AutoTokenizer.from_pretrained(\"nomic-ai/nomic-embed-text-v1.5\", trust_remote_code=True)\n",
        "text_model = AutoModel.from_pretrained(\"nomic-ai/nomic-embed-text-v1.5\", trust_remote_code=True)\n",
        "\n",
        "def get_text_embeddings(text):\n",
        "    \"\"\"\n",
        "    Converts input text into a dense embedding using the Nomic embedding model.\n",
        "    These embeddings are used to query Qdrant for semantically relevant document chunks.\n",
        "\n",
        "    Args:\n",
        "        text (str): The input text or query from the user.\n",
        "\n",
        "    Returns:\n",
        "        np.ndarray: A fixed-size vector representing the semantic meaning of the input.\n",
        "    \"\"\"\n",
        "    # Tokenize and prepare input for the model\n",
        "    inputs = text_tokenizer(text, return_tensors=\"pt\", padding=True, truncation=True)\n",
        "\n",
        "    # Forward pass to get model outputs\n",
        "    outputs = text_model(**inputs)\n",
        "\n",
        "    # Take the mean across all token embeddings to get a single vector (pooled representation)\n",
        "    embeddings = outputs.last_hidden_state.mean(dim=1)\n",
        "\n",
        "    # Convert to NumPy array and detach from computation graph\n",
        "    return embeddings[0].detach().numpy()\n",
        "\n",
        "# Example usage: Generate and preview the embedding of a test sentence\n",
        "text = \"This is a test sentence.\"\n",
        "embeddings = get_text_embeddings(text)\n",
        "print(embeddings[:5])  # Print first 5 dimensions for inspection\n"
      ]
    },
    {
      "cell_type": "markdown",
      "source": [
        "### Step 2: Define the Embedding Function\n",
        "We then define a function get_text_embeddings() which:\n",
        "\n",
        "- Tokenizes the input text\n",
        "- Runs it through the model\n",
        "- Computes the average of all token embeddings\n",
        "- Returns a single vector that represents the full sentence\n",
        "\n",
        "This vector will be used to query Qdrant to find the most relevant document chunks based on similarity."
      ],
      "metadata": {
        "id": "nXOx47EKw2ir"
      }
    },
    {
      "cell_type": "code",
      "source": [
        "def rag_formatted_response(user_query: str, context: list):\n",
        "    \"\"\"\n",
        "    Generate a response to the user query using the provided context,\n",
        "    with article references formatted as [1][2], etc.\n",
        "\n",
        "    This function performs the final step in the RAG pipeline—synthesizing an answer\n",
        "    from retrieved document chunks (context). It prompts the model to generate a\n",
        "    grounded response, explicitly citing sources using a reference format.\n",
        "\n",
        "    Args:\n",
        "        user_query (str): The user's original question.\n",
        "        context (list): List of text chunks retrieved from Qdrant (10-K or OpenAI docs).\n",
        "\n",
        "    Returns:\n",
        "        str: A generated response grounded in the retrieved context, with numbered citations.\n",
        "    \"\"\"\n",
        "\n",
        "    # Construct a RAG prompt that includes both:\n",
        "    # 1. The user's query\n",
        "    # 2. The supporting context documents\n",
        "    # The prompt instructs the model to answer using only the provided context,\n",
        "    # and to include citations like [1], [2], etc. based on chunk IDs or order.\n",
        "    rag_prompt = f\"\"\"\n",
        "       Based on the given context, answer the user query: {user_query}\\nContext:\\n{context}\n",
        "       and employ references to the ID of articles provided [ID], ensuring their relevance to the query.\n",
        "       The referencing should always be in the format of [1][2]... etc. </instructions>\n",
        "    \"\"\"\n",
        "\n",
        "    #  Call gpt-4.1-nano to generate the response using the RAG-style prompt\n",
        "    response = openaiclient.chat.completions.create(\n",
        "        model=\"gpt-4.1-nano\",\n",
        "        messages=[\n",
        "            {\"role\": \"system\", \"content\": rag_prompt},\n",
        "        ]\n",
        "    )\n",
        "\n",
        "    # Return the model's generated answer\n",
        "    return response.choices[0].message.content\n"
      ],
      "metadata": {
        "id": "3r6MeyRz8sv7"
      },
      "execution_count": 29,
      "outputs": []
    },
    {
      "cell_type": "markdown",
      "source": [
        "### Step 3: Define the RAG Response Generator\n",
        "After retrieving relevant text chunks from Qdrant, we use the rag_formatted_response() function to generate a final answer. This function:\n",
        "\n",
        "- Takes the user query and the retrieved document chunks\n",
        "- Builds a prompt that asks the language model (gpt-4.1-nano) to answer the question using only the provided context\n",
        "- Instructs the model to include references like [1], [2] for traceability\n",
        "\n",
        "This ensures the output is not only informative but also grounded in actual retrieved data.\n",
        "\n",
        "Together, these two functions lay the foundation for combining retrieval (from vector DB) and generation (from LLM) — the two pillars of a RAG system.\n",
        "\n"
      ],
      "metadata": {
        "id": "zdaeGcoCDw5w"
      }
    },
    {
      "cell_type": "code",
      "source": [
        "def retrieve_and_response(user_query: str, action: str):\n",
        "    \"\"\"\n",
        "    Retrieves relevant text chunks from the appropriate Qdrant collection\n",
        "    based on the query type, then generates a response using RAG.\n",
        "\n",
        "    This function powers the retrieval and response generation pipeline\n",
        "    for queries that are classified as either OPENAI-related or 10-K related.\n",
        "    It uses semantic search to fetch relevant context from a Qdrant vector store\n",
        "    and then generates a response using that context via a RAG prompt.\n",
        "\n",
        "    Args:\n",
        "        user_query (str): The user's input question.\n",
        "        action (str): The classification label from the router (e.g., \"OPENAI_QUERY\", \"10K_DOCUMENT_QUERY\").\n",
        "\n",
        "    Returns:\n",
        "        str: A model-generated response grounded in retrieved documents, or an error message.\n",
        "    \"\"\"\n",
        "\n",
        "    # Define mapping of routing labels to their respective Qdrant collections\n",
        "    collections = {\n",
        "        \"OPENAI_QUERY\": \"opnai_data\",           # Collection of OpenAI documentation embeddings\n",
        "        \"10K_DOCUMENT_QUERY\": \"10k_data\"        # Collection of 10-K financial document embeddings\n",
        "    }\n",
        "\n",
        "    try:\n",
        "        # Ensure that the provided action is valid\n",
        "        if action not in collections:\n",
        "            return \"Invalid action type for retrieval.\"\n",
        "\n",
        "        # Step 1: Convert the user query into a dense vector (embedding)\n",
        "        try:\n",
        "            query = get_text_embeddings(user_query)\n",
        "        except Exception as embed_err:\n",
        "            return f\"Embedding error: {embed_err}\"  # Fail early if embedding fails\n",
        "\n",
        "        # Step 2: Retrieve top-matching chunks from the relevant Qdrant collection\n",
        "        try:\n",
        "            text_hits = client.query_points(\n",
        "                collection_name=collections[action],  # Choose the right collection based on routing\n",
        "                query=query,                          # The embedding of the user's query\n",
        "                limit=3                               # Fetch top 3 relevant chunks\n",
        "            ).points\n",
        "        except Exception as qdrant_err:\n",
        "            return f\"Vector DB query error: {qdrant_err}\"  # Handle Qdrant access issues\n",
        "\n",
        "        # Extract the raw content from the retrieved vector hits\n",
        "        contents = [point.payload['content'] for point in text_hits]\n",
        "\n",
        "        # If no relevant content is found, return early\n",
        "        if not contents:\n",
        "            return \"No relevant content found in the database.\"\n",
        "\n",
        "        # Step 3: Pass the retrieved context to the RAG model to generate a response\n",
        "        try:\n",
        "            response = rag_formatted_response(user_query, contents)\n",
        "            return response\n",
        "        except Exception as rag_err:\n",
        "            return f\"RAG response error: {rag_err}\"  # Handle generation failures\n",
        "\n",
        "    # Catch any unforeseen errors in the overall process\n",
        "    except Exception as err:\n",
        "        return f\"Unexpected error: {err}\"\n"
      ],
      "metadata": {
        "id": "hp0y2J1AgX2t"
      },
      "execution_count": 30,
      "outputs": []
    },
    {
      "cell_type": "markdown",
      "source": [
        "# 5. Putting It All Together: Running the Agentic RAG\n",
        "In this final step, we combine everything into a single function that controls the entire Agentic RAG workflow. The agentic_rag() function acts as the main orchestrator of the system.\n",
        "\n",
        "Here’s what it does:\n",
        "\n",
        "- Prints the user's query for reference.\n",
        "- Uses the router function (powered by GPT) to decide which type of data source to use:\n",
        "  - OpenAI documentation\n",
        "  - 10-K financial reports\n",
        "- Internet search\n",
        "- Calls the correct function based on the route:\n",
        "- If it’s an OpenAI or 10-K query, it retrieves data from Qdrant and generates a RAG response.\n",
        "- If it’s an Internet query, it uses the ARES API to fetch live information.\n",
        "- Displays the final response, neatly formatted in the console.\n",
        "\n",
        "This step brings the agentic loop full circle—from understanding the question, reasoning about where to search, to finally responding with the best possible answer."
      ],
      "metadata": {
        "id": "yfYzErTYzhnK"
      }
    },
    {
      "cell_type": "code",
      "source": [
        "# Dictionary that maps the route labels (decided by the router) to their respective functions\n",
        "# Each type of query is handled differently:\n",
        "# - OPENAI_QUERY and 10K_DOCUMENT_QUERY use document retrieval + RAG\n",
        "# - INTERNET_QUERY uses a web search API\n",
        "routes = {\n",
        "    \"OPENAI_QUERY\": retrieve_and_response,\n",
        "    \"10K_DOCUMENT_QUERY\": retrieve_and_response,\n",
        "    \"INTERNET_QUERY\": get_internet_content,\n",
        "}\n",
        "\n",
        "def agentic_rag(user_query: str):\n",
        "    \"\"\"\n",
        "    Main function that runs the full Agentic RAG system.\n",
        "\n",
        "    This function takes a user's question, decides what type of query it is (OpenAI-related,\n",
        "    financial document-related, or general internet), and then calls the right function\n",
        "    to handle it. Finally, it prints out the full conversation and response.\n",
        "\n",
        "    Args:\n",
        "        user_query (str): The user's input question.\n",
        "\n",
        "    Returns:\n",
        "        None (It just prints the result nicely to the console)\n",
        "    \"\"\"\n",
        "\n",
        "    #  Terminal color codes to make the printed output easier to read and visually structured\n",
        "    CYAN = \"\\033[96m\"\n",
        "    GREY = \"\\033[90m\"\n",
        "    BOLD = \"\\033[1m\"\n",
        "    RESET = \"\\033[0m\"\n",
        "\n",
        "    try:\n",
        "        # Step 1: Print the user's original question to the console\n",
        "       # print(f\"{BOLD}{CYAN}👤 User Query:{RESET} {user_query}\\n\")\n",
        "\n",
        "        # Step 2: Use the router (powered by GPT) to decide which route the query belongs to\n",
        "        try:\n",
        "            response = route_query(user_query)\n",
        "          #  print(f\"RESPONSE-RESPONSE: {response}\")\n",
        "        except Exception as route_err:\n",
        "            # If something goes wrong while classifying the query, show an error message\n",
        "          #  print(f\"{BOLD}{CYAN}🤖 BOT RESPONSE:{RESET}\\n\")\n",
        "          #  print(f\"Routing error: {route_err}\\n\")\n",
        "            return\n",
        "\n",
        "        # Extract the routing decision and the reason behind it\n",
        "        action = response.get(\"action\")  # e.g., \"OPENAI_QUERY\"\n",
        "        reason = response.get(\"reason\")  # e.g., \"Related to OpenAI tools\"\n",
        "\n",
        "        # Step 3: Show the selected route and why it was chosen\n",
        "   #     print(f\"{GREY}📍 Selected Route: {action}\")\n",
        "  #      print(f\"📝 Reason: {reason}\")\n",
        "  #      print(f\"⚙️ Processing query...{RESET}\\n\")\n",
        "\n",
        "        # Step 4: Call the correct function depending on the route (retrieval or web search)\n",
        "        try:\n",
        "            route_function = routes.get(action)  # Find the function to use for this route\n",
        "         #   print(f\"route_function-route_function: {route_function}\")\n",
        "            if route_function:\n",
        "                result = route_function(user_query, action)\n",
        "             #   print(f\"result-result: {result}\") # Run the function with the user's input\n",
        "            else:\n",
        "                result = f\"Unsupported action: {action}\"  # Catch unknown routing types\n",
        "        except Exception as exec_err:\n",
        "            result = f\"Execution error: {exec_err}\"  # Handle failure in the chosen route function\n",
        "\n",
        "        # Step 5: Print the final response to the user\n",
        "     #   print(f\"{BOLD}{CYAN}🤖 BOT RESPONSE:{RESET}\\n\")\n",
        "        print(f\"{result}\\n\")\n",
        "\n",
        "    except Exception as err:\n",
        "        # Catch-all for any unexpected errors in the overall logic\n",
        "    #    print(f\"{BOLD}{CYAN}🤖 BOT RESPONSE:{RESET}\\n\")\n",
        "        print(f\"Unexpected error occurred: {err}\\n\")\n",
        "    return result\n"
      ],
      "metadata": {
        "id": "ssG-BM9GpT-p"
      },
      "execution_count": 31,
      "outputs": []
    },
    {
      "cell_type": "code",
      "source": [
        "agentic_rag(\"how to work with chat completions?\")"
      ],
      "metadata": {
        "colab": {
          "base_uri": "https://localhost:8080/",
          "height": 489
        },
        "id": "l-_pHujteVGJ",
        "outputId": "f2d525ad-0988-492a-ac9d-976d63bde173"
      },
      "execution_count": null,
      "outputs": [
        {
          "output_type": "stream",
          "name": "stdout",
          "text": [
            "route_function-route_function: <function retrieve_and_response at 0x7a274f2e5580>\n",
            "To work with Chat Completions using OpenAI API, you follow these steps:\n",
            "\n",
            "1. Get Chat Messages: \n",
            "   Use the GET request with the endpoint https://api.openai.com/v1/chat/completions/chat_abc123/messages. The headers should include \"Authorization: Bearer $OPENAI_API_KEY\" and \"Content-Type: application/json\"[1].\n",
            "\n",
            "2. List Stored Chat Completions: \n",
            "   Send a GET request to the endpoint https://api.openai.com/v1/chat/completions. Only those chat completions which have 'store' parameter set to true are returned[1].\n",
            "\n",
            "3. Retrieve a specific Chat Completion:\n",
            "   Use the GET request to https://api.openai.com/v1/chat/completions/{completion_id}/messages with the completion_id as the parameter; this will get the messages in a specific stored chat completion. Only those completions created with 'store' parameter set to true will be returned[1].\n",
            "\n",
            "4. To stream Chat Completions in real-time: \n",
            "   This can be achieved through using server-sent events to receive chunks of completions returned from the model [1].\n",
            "\n",
            "Remember, when the API request is sent, you can optionally set the 'limit' parameter to define the number of chat completions/messages to retrieve, and the 'order' parameter to define the sort order of messages by timestamp. The default limit is 20 and default order is ascending (asc) [1].\n",
            " \n",
            "\n",
            "\n"
          ]
        },
        {
          "output_type": "execute_result",
          "data": {
            "text/plain": [
              "'To work with Chat Completions using OpenAI API, you follow these steps:\\n\\n1. Get Chat Messages: \\n   Use the GET request with the endpoint https://api.openai.com/v1/chat/completions/chat_abc123/messages. The headers should include \"Authorization: Bearer $OPENAI_API_KEY\" and \"Content-Type: application/json\"[1].\\n\\n2. List Stored Chat Completions: \\n   Send a GET request to the endpoint https://api.openai.com/v1/chat/completions. Only those chat completions which have \\'store\\' parameter set to true are returned[1].\\n\\n3. Retrieve a specific Chat Completion:\\n   Use the GET request to https://api.openai.com/v1/chat/completions/{completion_id}/messages with the completion_id as the parameter; this will get the messages in a specific stored chat completion. Only those completions created with \\'store\\' parameter set to true will be returned[1].\\n\\n4. To stream Chat Completions in real-time: \\n   This can be achieved through using server-sent events to receive chunks of completions returned from the model [1].\\n\\nRemember, when the API request is sent, you can optionally set the \\'limit\\' parameter to define the number of chat completions/messages to retrieve, and the \\'order\\' parameter to define the sort order of messages by timestamp. The default limit is 20 and default order is ascending (asc) [1].\\n \\n'"
            ],
            "application/vnd.google.colaboratory.intrinsic+json": {
              "type": "string"
            }
          },
          "metadata": {},
          "execution_count": 20
        }
      ]
    },
    {
      "cell_type": "code",
      "source": [
        "agentic_rag(\"List me down new LLMs in 2025\")"
      ],
      "metadata": {
        "colab": {
          "base_uri": "https://localhost:8080/",
          "height": 645
        },
        "id": "GWxR9noX_Iv5",
        "outputId": "2506c7e7-67a9-480e-e157-79a13565c12a"
      },
      "execution_count": null,
      "outputs": [
        {
          "output_type": "stream",
          "name": "stdout",
          "text": [
            "route_function-route_function: <function get_internet_content at 0x7a27c1b09b20>\n",
            "Getting your response from the internet 🌐 ...\n",
            "Here are some of the new large language models (LLMs) that have emerged in 2025:\n",
            "\n",
            "1. **5-Max**: Released in early 2025, this model has gained attention for its capabilities.\n",
            "   \n",
            "2. **QwQ-32B**: Launched in March 2025, the QwQ-32B model is particularly notable for its advanced mathematical reasoning and coding abilities. It competes effectively with larger models like DeepSeek R1 while requiring significantly less computational resources.\n",
            "\n",
            "Additional notable LLMs in 2025 include:\n",
            "\n",
            "- **Gemini 2.0 Flash**: Developed by Google DeepMind, released in December 2024.\n",
            "- **Sora**: An OpenAI model released in December 2024.\n",
            "- **Nova**: Released by Amazon in December 2024.\n",
            "- **Claude 3.5 Sonnet**: Another significant model released in late 2024.\n",
            "\n",
            "For more detailed insights on the latest LLMs, you can refer to the following sources:\n",
            "\n",
            "- [Top 9 Large Language Models as of April 2025 | Shakudo](https://www.shakudo.io/blog/top-9-large-language-models) (Published on April 4, 2025)\n",
            "- [The best large language models (LLMs) in 2025 - Zapier](https://zapier.com/blog/best-llm/)\n",
            "- [25 of the best large language models in 2025 - TechTarget](https://www.techtarget.com/whatis/feature/12-of-the-best-large-language-models)\n",
            "- [Top 10 open source LLMs for 2025 - Instaclustr](https://www.instaclustr.com/education/open-source-ai/top-10-open-source-llms-for-2025/)\n",
            "- [Best 44 Large Language Models (LLMs) in 2025 - Exploding Topics](https://explodingtopics.com/blog/list-of-llms)\n",
            "- [The Ultimate Guide to the Latest LLMs: A Detailed Comparison for 2025](https://www.empler.ai/blog/the-ultimate-guide-to-the-latest-llms-a-detailed-comparison-for-2025)\n",
            "- [Large Language Models: What You Need to Know in 2025](https://hatchworks.com/blog/gen-ai/large-language-models-guide/)\n",
            "- [7 Best Large Language Models to Check in 2025 - HeLa Labs](https://helalabs.com/blog/7-best-large-language-models-to-check-in-2025/)\n",
            "- [What's new in the world of LLMs, for NICAR 2025](https://simonw.substack.com/p/whats-new-in-the-world-of-llms-for)\n",
            "- [LLM Trends 2025: A Deep Dive into the Future of Large Language Models](https://prajnaaiwisdom.medium.com/llm-trends-2025-a-deep-dive-into-the-future-of-large-language-models-bff23aa7cdbc)\n",
            "\n"
          ]
        },
        {
          "output_type": "execute_result",
          "data": {
            "text/plain": [
              "\"Here are some of the new large language models (LLMs) that have emerged in 2025:\\n\\n1. **5-Max**: Released in early 2025, this model has gained attention for its capabilities.\\n   \\n2. **QwQ-32B**: Launched in March 2025, the QwQ-32B model is particularly notable for its advanced mathematical reasoning and coding abilities. It competes effectively with larger models like DeepSeek R1 while requiring significantly less computational resources.\\n\\nAdditional notable LLMs in 2025 include:\\n\\n- **Gemini 2.0 Flash**: Developed by Google DeepMind, released in December 2024.\\n- **Sora**: An OpenAI model released in December 2024.\\n- **Nova**: Released by Amazon in December 2024.\\n- **Claude 3.5 Sonnet**: Another significant model released in late 2024.\\n\\nFor more detailed insights on the latest LLMs, you can refer to the following sources:\\n\\n- [Top 9 Large Language Models as of April 2025 | Shakudo](https://www.shakudo.io/blog/top-9-large-language-models) (Published on April 4, 2025)\\n- [The best large language models (LLMs) in 2025 - Zapier](https://zapier.com/blog/best-llm/)\\n- [25 of the best large language models in 2025 - TechTarget](https://www.techtarget.com/whatis/feature/12-of-the-best-large-language-models)\\n- [Top 10 open source LLMs for 2025 - Instaclustr](https://www.instaclustr.com/education/open-source-ai/top-10-open-source-llms-for-2025/)\\n- [Best 44 Large Language Models (LLMs) in 2025 - Exploding Topics](https://explodingtopics.com/blog/list-of-llms)\\n- [The Ultimate Guide to the Latest LLMs: A Detailed Comparison for 2025](https://www.empler.ai/blog/the-ultimate-guide-to-the-latest-llms-a-detailed-comparison-for-2025)\\n- [Large Language Models: What You Need to Know in 2025](https://hatchworks.com/blog/gen-ai/large-language-models-guide/)\\n- [7 Best Large Language Models to Check in 2025 - HeLa Labs](https://helalabs.com/blog/7-best-large-language-models-to-check-in-2025/)\\n- [What's new in the world of LLMs, for NICAR 2025](https://simonw.substack.com/p/whats-new-in-the-world-of-llms-for)\\n- [LLM Trends 2025: A Deep Dive into the Future of Large Language Models](https://prajnaaiwisdom.medium.com/llm-trends-2025-a-deep-dive-into-the-future-of-large-language-models-bff23aa7cdbc)\""
            ],
            "application/vnd.google.colaboratory.intrinsic+json": {
              "type": "string"
            }
          },
          "metadata": {},
          "execution_count": 21
        }
      ]
    },
    {
      "cell_type": "code",
      "source": [
        "agentic_rag(\"how to work with chat completions?\")"
      ],
      "metadata": {
        "colab": {
          "base_uri": "https://localhost:8080/",
          "height": 454
        },
        "id": "7Ic07dG9_V0Q",
        "outputId": "cf3d4996-7001-479f-ed64-5867a83f1b34"
      },
      "execution_count": null,
      "outputs": [
        {
          "output_type": "stream",
          "name": "stdout",
          "text": [
            "To work with chat completions in OpenAI, you can use the OpenAI API. Here are some steps on how to do this:\n",
            "\n",
            "1. Get chat messages: Using the 'GET' method, you can retrieve messages from the specific chat completion using its ID (which is a required parameter). An example request is: \n",
            "\n",
            "```\n",
            "curl https://api.openai.com/v1/chat/completions/chat_abc123/messages -H \"Authorization: Bearer $OPENAI_API_KEY\" -H \"Content-Type: application/json\"\n",
            "```\n",
            "The response will return a list of messages from the specified chat completion[1].\n",
            "\n",
            "2. List stored Chat Completions: You can list the stored chat completions that were set to true using the 'GET' method with this URL: https://api.openai.com/v1/chat/completions. The number of completions to retrieve (limit parameter) is optional and defaults to 20[1].\n",
            "\n",
            "3. To work with a specific chat completion, you need the ID of that chat completion. You can retrieve it with a GET request to https://api.openai.com/v1/chat/completions/{completion_id}/messages. The returned object will include the messages from this chat completion, assuming the completion was created with the storage parameter set to true[1].\n",
            "\n",
            "4. If you want to stream chat completions in real-time, you can receive chunks of completions from the model using server-sent events. The returned object is a list of chat completion choices, which can contain more than one element if 'n' is greater than 1. It would be empty for the last chunk if you set stream_options: {\"include_usage\": true}[1].\n",
            "\n",
            "Remember to replace '$OPENAI_API_KEY' with your actual OpenAI API key. For further understanding, refer to the OpenAI API documentation[1].\n",
            "\n"
          ]
        },
        {
          "output_type": "execute_result",
          "data": {
            "text/plain": [
              "'To work with chat completions in OpenAI, you can use the OpenAI API. Here are some steps on how to do this:\\n\\n1. Get chat messages: Using the \\'GET\\' method, you can retrieve messages from the specific chat completion using its ID (which is a required parameter). An example request is: \\n\\n```\\ncurl https://api.openai.com/v1/chat/completions/chat_abc123/messages -H \"Authorization: Bearer $OPENAI_API_KEY\" -H \"Content-Type: application/json\"\\n```\\nThe response will return a list of messages from the specified chat completion[1].\\n\\n2. List stored Chat Completions: You can list the stored chat completions that were set to true using the \\'GET\\' method with this URL: https://api.openai.com/v1/chat/completions. The number of completions to retrieve (limit parameter) is optional and defaults to 20[1].\\n\\n3. To work with a specific chat completion, you need the ID of that chat completion. You can retrieve it with a GET request to https://api.openai.com/v1/chat/completions/{completion_id}/messages. The returned object will include the messages from this chat completion, assuming the completion was created with the storage parameter set to true[1].\\n\\n4. If you want to stream chat completions in real-time, you can receive chunks of completions from the model using server-sent events. The returned object is a list of chat completion choices, which can contain more than one element if \\'n\\' is greater than 1. It would be empty for the last chunk if you set stream_options: {\"include_usage\": true}[1].\\n\\nRemember to replace \\'$OPENAI_API_KEY\\' with your actual OpenAI API key. For further understanding, refer to the OpenAI API documentation[1].'"
            ],
            "application/vnd.google.colaboratory.intrinsic+json": {
              "type": "string"
            }
          },
          "metadata": {},
          "execution_count": 62
        }
      ]
    },
    {
      "cell_type": "code",
      "source": [
        "\n",
        "agentic_rag(\"what was uber revenue in 2021?\")"
      ],
      "metadata": {
        "id": "0-rTHJpGDTea",
        "colab": {
          "base_uri": "https://localhost:8080/"
        },
        "outputId": "1970c94e-8d11-4d54-bd26-ae20528c7d47"
      },
      "execution_count": null,
      "outputs": [
        {
          "output_type": "stream",
          "name": "stdout",
          "text": [
            "Uber's revenue in 2021 was $17,455 million [1].\n",
            "\n"
          ]
        }
      ]
    },
    {
      "cell_type": "code",
      "source": [
        "agentic_rag(\"what was lyft revenue in 2024?\")"
      ],
      "metadata": {
        "id": "TncVUsVpu3WC",
        "colab": {
          "base_uri": "https://localhost:8080/"
        },
        "outputId": "87cd195b-4caa-4945-d991-0a7b1f4d52c4"
      },
      "execution_count": null,
      "outputs": [
        {
          "output_type": "stream",
          "name": "stdout",
          "text": [
            "Getting your response from the internet 🌐 ...\n",
            "\u001b[1m\u001b[96m🤖 BOT RESPONSE:\u001b[0m\n",
            "\n",
            "Lyft's revenue for the year 2024 was $5.8 billion, representing a 31% increase compared to 2023. \n",
            "\n",
            "Here are some additional details regarding Lyft's financial performance in 2024:\n",
            "\n",
            "1. **Growth Rate**: The revenue growth of 31% year-over-year indicates a significant increase in business activity and customer engagement.\n",
            "2. **Net Profitability**: 2024 marked Lyft's first year of net profitability, with a reported net income of $22.8 million, a notable improvement from a loss of $340.3 million in 2023.\n",
            "3. **Quarterly Performance**: In the fourth quarter of 2024, Lyft reported revenue of approximately $1.55 billion.\n",
            "4. **Comparison with Previous Year**: The revenue for 2023 was $4.4 billion, showing a substantial growth trajectory for the company.\n",
            "5. **Financial Reports**: For more detailed financial insights, Lyft's official financial reports and earnings announcements can be accessed through their investor relations page.\n",
            "\n",
            "For further information, you can visit the following links:\n",
            "- [Lyft Reports Record Q4 and Full-Year 2024 Results](https://investor.lyft.com/news-and-events/news/news-details/2025/Lyft-Reports-Record-Q4-and-Full-Year-2024-Results/default.aspx)\n",
            "- [Lyft Revenue 2017-2024 - Macrotrends](https://macrotrends.net/stocks/charts/LYFT/lyft/revenue)\n",
            "- [Lyft Full Year 2024 Earnings: EPS Beats Expectations](https://finance.yahoo.com/news/lyft-full-2024-earnings-eps-102825727.html)\n",
            "\n"
          ]
        }
      ]
    },
    {
      "cell_type": "code",
      "source": [
        "# agentic_rag(\"List me down new LLMs in 2025\")"
      ],
      "metadata": {
        "id": "Mdb97ckP6y2h"
      },
      "execution_count": null,
      "outputs": []
    },
    {
      "cell_type": "code",
      "source": [
        "agentic_rag(\"how to work with chat completions?\")"
      ],
      "metadata": {
        "id": "wpO6W8peh1qO",
        "colab": {
          "base_uri": "https://localhost:8080/"
        },
        "outputId": "3fe2eeac-787c-4ce7-cac8-76de36470657"
      },
      "execution_count": null,
      "outputs": [
        {
          "output_type": "stream",
          "name": "stdout",
          "text": [
            "\u001b[1m\u001b[96m🤖 BOT RESPONSE:\u001b[0m\n",
            "\n",
            "To work with chat completions, you make HTTP requests to the OpenAI API, with each type of request corresponding to different actions you can perform on chat completions. Here are some examples:\n",
            "\n",
            "1. List stored Chat Completions: \n",
            "  - Make a GET request to `https://api.openai.com/v1/chat/completions`\n",
            "  - You can filter the list by various parameters such as `limit`, `after`, `metadata`, and `model` [1]\n",
            "\n",
            "2. Get a specific Chat Completion:\n",
            "  - Include the chat completion's ID in the GET request like this - `https://api.openai.com/v1/chat/completions/{completion_id}`\n",
            "  - Here, replace `{completion_id}` with the actual ID of the chat completion you want to retrieve [1]\n",
            "\n",
            "3. Get Chat Messages from a specific Chat Completion: \n",
            "  - Send a GET request to `https://api.openai.com/v1/chat/completions/{completion_id}/messages`\n",
            "  - Again, replace `{completion_id}` with the ID of the chat completion [1]\n",
            "\n",
            "For each HTTP request, you need to set the `Authorization: Bearer $OPENAI_API_KEY` and `Content-Type: application/json` headers. The `$OPENAI_API_KEY` should be replaced with your actual API key [1].\n",
            "\n",
            "It's also possible to stream Chat Completions in real time which requires an understanding of server-sent events [1].\n",
            "\n"
          ]
        }
      ]
    },
    {
      "cell_type": "code",
      "source": [],
      "metadata": {
        "id": "3PDb2dwa68E7"
      },
      "execution_count": null,
      "outputs": []
    },
    {
      "cell_type": "markdown",
      "source": [
        "#Assignment: Implement sub-query division"
      ],
      "metadata": {
        "id": "DKagaRyI4jaK"
      }
    },
    {
      "cell_type": "markdown",
      "source": [
        "In our current agentic retrieval-augmented generation (RAG) setup, there's a key limitation: when a user submits a query that contains multiple distinct questions phrased as a single input, the system treats it as a single unified search. As a result, the retrieval engine performs only one operation on the vector databases or external tools, which often leads to incomplete or less relevant results.\n",
        "\n",
        "\n",
        "To address this, the assignment introduces a new functionality called subquery division. This involves breaking down complex, compound queries into multiple, focused subqueries. Each subquery is processed independently, allowing the system to retrieve more accurate and context-specific information. By handling these subqueries separately, the agent can generate more complete and relevant responses."
      ],
      "metadata": {
        "id": "JZvmbi0QxPzD"
      }
    },
    {
      "cell_type": "markdown",
      "source": [
        "Who scored the highest run in the last cricket world cup India won ?\" is this a valid question\n",
        "\n"
      ],
      "metadata": {
        "id": "QOg6nUTaV2Mf"
      }
    },
    {
      "cell_type": "code",
      "source": [
        "#Reference Code for sub query division (For Guidance Only)\n",
        "\n",
        "def sub_queries(user_query):\n",
        "  sub_queries_prompt= f\"\"\"\n",
        "  You are a query router. If the input contains multiple distinct questions, break it into sub-questions. Otherwise, keep it as one. Return a JSON object like:\n",
        "  Always respond in the output as a list as stated in the EXAMPLES below:\n",
        "\n",
        "  EXAMPLES:\n",
        "\n",
        "    - User: \"Who is the CEO of Google and what was the revenue of Google in 2024?\"\n",
        "    Response:\n",
        "    [\"Who is the CEO of Google\", \"What was the revenue of Google in 2024\"]\n",
        "\n",
        "    - User: \"Who is the CEO of Apple and what is the most selling product of apple ?\"\n",
        "    Response:\n",
        "    [\"Who is the CEO of Apple ?\", \"what is the most selling product of apple ?\"]\n",
        "\n",
        "    - User: \"Who is the CEO of Apple ?\"\n",
        "    Response:\n",
        "    [\"Who is the CEO of Apple ?\"]\n",
        "\n",
        "  Query: \"{user_query}\"\n",
        "  Output:\n",
        "  \"\"\"\n",
        "  response = openaiclient.chat.completions.create(\n",
        "        model=\"gpt-4.1-nano\",\n",
        "        messages=[\n",
        "            {\"role\": \"system\", \"content\": sub_queries_prompt},\n",
        "        ]\n",
        "    )\n",
        "  return response.choices[0].message.content\n"
      ],
      "metadata": {
        "id": "DBq_Y-w1B0DF"
      },
      "execution_count": 32,
      "outputs": []
    },
    {
      "cell_type": "code",
      "source": [
        "import ast\n"
      ],
      "metadata": {
        "id": "-NA6YYoy8kcj"
      },
      "execution_count": 33,
      "outputs": []
    },
    {
      "cell_type": "code",
      "source": [
        "user_query =  \"Who is the CEO of lyft and what was the revenue of lyft in 2024 ?\""
      ],
      "metadata": {
        "id": "PpCLANcEBssG"
      },
      "execution_count": 34,
      "outputs": []
    },
    {
      "cell_type": "code",
      "source": [
        "sub_ques = sub_queries(user_query)"
      ],
      "metadata": {
        "id": "ldR3RgLLw3UE"
      },
      "execution_count": 35,
      "outputs": []
    },
    {
      "cell_type": "code",
      "source": [
        "sub_ques = ast.literal_eval(sub_ques)\n"
      ],
      "metadata": {
        "id": "DxCdA_297fV7"
      },
      "execution_count": 36,
      "outputs": []
    },
    {
      "cell_type": "code",
      "source": [
        "sub_ques"
      ],
      "metadata": {
        "colab": {
          "base_uri": "https://localhost:8080/"
        },
        "id": "NgT9pwe30Clo",
        "outputId": "fd7c64cb-68ec-4393-8872-035e919e5eed"
      },
      "execution_count": 37,
      "outputs": [
        {
          "output_type": "execute_result",
          "data": {
            "text/plain": [
              "['Who is the CEO of Lyft ?', 'What was the revenue of Lyft in 2024 ?']"
            ]
          },
          "metadata": {},
          "execution_count": 37
        }
      ]
    },
    {
      "cell_type": "code",
      "source": [
        "sub_asnwer_combined = []\n",
        "for i in sub_ques:\n",
        "  print(i)\n",
        "  sub_answer = agentic_rag(i)\n",
        "  sub_asnwer_combined.append(sub_answer)\n"
      ],
      "metadata": {
        "colab": {
          "base_uri": "https://localhost:8080/"
        },
        "id": "MF5NqCnQ7Wnw",
        "outputId": "93e75d34-5a9f-4827-ec42-e14d83c7bf9c"
      },
      "execution_count": 39,
      "outputs": [
        {
          "output_type": "stream",
          "name": "stdout",
          "text": [
            "Who is the CEO of Lyft ?\n",
            "Getting your response from the internet 🌐 ...\n",
            "The CEO of Lyft is David Risher. He has been serving as the Chief Executive Officer since April 2023 and is also a member of the board of directors since July 2021. \n",
            "\n",
            "For more information, you can visit the following links:\n",
            "- [Management Team - Lyft, Inc.](https://investor.lyft.com/governance/management/default.aspx)\n",
            "- [David Risher - Wikipedia](https://en.wikipedia.org/wiki/David_Risher)\n",
            "- [Lyft Announces Leadership Succession Plan](https://investor.lyft.com/news-and-events/news/news-details/2023/Lyft-Announces-Leadership-Succession-Plan/default.aspx)\n",
            "\n",
            "What was the revenue of Lyft in 2024 ?\n",
            "Lyft reported revenue of $5,786,016 thousand (i.e. about $5.8 billion) for the year ended December 31, 2024 [2].\n",
            "\n"
          ]
        }
      ]
    },
    {
      "cell_type": "code",
      "source": [
        "sub_asnwer_combined"
      ],
      "metadata": {
        "colab": {
          "base_uri": "https://localhost:8080/"
        },
        "id": "B-kc8B9UA3Wt",
        "outputId": "690ca9bc-0ecc-46cd-d94b-4c8a71c1f26a"
      },
      "execution_count": 40,
      "outputs": [
        {
          "output_type": "execute_result",
          "data": {
            "text/plain": [
              "['The CEO of Lyft is David Risher. He has been serving as the Chief Executive Officer since April 2023 and is also a member of the board of directors since July 2021. \\n\\nFor more information, you can visit the following links:\\n- [Management Team - Lyft, Inc.](https://investor.lyft.com/governance/management/default.aspx)\\n- [David Risher - Wikipedia](https://en.wikipedia.org/wiki/David_Risher)\\n- [Lyft Announces Leadership Succession Plan](https://investor.lyft.com/news-and-events/news/news-details/2023/Lyft-Announces-Leadership-Succession-Plan/default.aspx)',\n",
              " 'Lyft reported revenue of $5,786,016 thousand (i.e. about $5.8 billion) for the year ended December 31, 2024 [2].']"
            ]
          },
          "metadata": {},
          "execution_count": 40
        }
      ]
    },
    {
      "cell_type": "code",
      "source": [
        "sub_asnwer_combined"
      ],
      "metadata": {
        "colab": {
          "base_uri": "https://localhost:8080/"
        },
        "id": "Nr-l3Bfe8_2F",
        "outputId": "d1ccc78f-a792-4cd6-cae4-90600b1eede5"
      },
      "execution_count": null,
      "outputs": [
        {
          "output_type": "execute_result",
          "data": {
            "text/plain": [
              "[\"The CEO of Lyft is David Risher. He has been serving as the Chief Executive Officer since April 2023, succeeding co-founder Logan Green. Risher has also been a member of Lyft's board of directors since July 2021.\\n\\nFor more information, you can visit the following links:\\n- [Management Team - Lyft, Inc.](https://investor.lyft.com/governance/management/default.aspx)\\n- [David Risher - Wikipedia](https://en.wikipedia.org/wiki/David_Risher)\\n- [Lyft Announces Leadership Succession Plan](https://investor.lyft.com/news-and-events/news/news-details/2023/Lyft-Announces-Leadership-Succession-Plan/default.aspx)\",\n",
              " 'The revenue of Lyft in 2024 was $5,786,016,000 [1].']"
            ]
          },
          "metadata": {},
          "execution_count": 79
        }
      ]
    },
    {
      "cell_type": "code",
      "source": [
        "def rag_combined_response(user_query: str, context: list):\n",
        "    \"\"\"\n",
        "    Generate a response to the user query using the provided context,\n",
        "    with article references formatted as [1][2], etc.\n",
        "\n",
        "    This function performs the final step in the RAG pipeline—synthesizing an answer\n",
        "    from retrieved document chunks (context). It prompts the model to generate a\n",
        "    grounded response, explicitly citing sources using a reference format.\n",
        "\n",
        "    Args:\n",
        "        user_query (str): The user's original question.\n",
        "        context (list): List of text chunks retrieved from Qdrant (10-K or OpenAI docs).\n",
        "\n",
        "    Returns:\n",
        "        str: A generated response grounded in the retrieved context, with numbered citations.\n",
        "    \"\"\"\n",
        "\n",
        "    # Construct a RAG prompt that includes both:\n",
        "    # 1. The user's query\n",
        "    # 2. The supporting context documents\n",
        "    # The prompt instructs the model to answer using only the provided context,\n",
        "    # and to include citations like [1], [2], etc. based on chunk IDs or order.\n",
        "    rag_prompt = f\"\"\"\n",
        "       Based on the given user query : {user_query} and \\nContext:\\n{sub_asnwer_combined}\n",
        "       provide the final answer. The answer should be based only on the Context and not coming from anything additional or outside.\n",
        "       Make sure the final answer is cohoernt, comprehensive and answer the user query.\n",
        "    \"\"\"\n",
        "\n",
        "    #  Call gpt-4.1-nano to generate the response using the RAG-style prompt\n",
        "    response = openaiclient.chat.completions.create(\n",
        "        model=\"gpt-4.1-nano\",\n",
        "        messages=[\n",
        "            {\"role\": \"system\", \"content\": rag_prompt},\n",
        "        ]\n",
        "    )\n",
        "\n",
        "    # Return the model's generated answer\n",
        "    return response.choices[0].message.content\n"
      ],
      "metadata": {
        "id": "MLJhyj-J2njV"
      },
      "execution_count": 48,
      "outputs": []
    },
    {
      "cell_type": "code",
      "source": [
        "rag_combined_response(user_query, sub_asnwer_combined)"
      ],
      "metadata": {
        "colab": {
          "base_uri": "https://localhost:8080/",
          "height": 35
        },
        "id": "COFNha-sBj4v",
        "outputId": "31174004-5e7b-47d8-e029-d0fffada78bc"
      },
      "execution_count": null,
      "outputs": [
        {
          "output_type": "execute_result",
          "data": {
            "text/plain": [
              "'The CEO of Lyft is David Risher, who assumed the role in April 2023. In 2024, Lyft reported a revenue of $5,786,016,000.'"
            ],
            "application/vnd.google.colaboratory.intrinsic+json": {
              "type": "string"
            }
          },
          "metadata": {},
          "execution_count": 81
        }
      ]
    },
    {
      "cell_type": "code",
      "source": [
        "# sub_queries(\"what is revenue of lyft and what is reveue for uber in 2024\")"
      ],
      "metadata": {
        "id": "zEXMj4f7XTrg"
      },
      "execution_count": null,
      "outputs": []
    },
    {
      "cell_type": "markdown",
      "source": [
        "# async"
      ],
      "metadata": {
        "id": "dvhpRnjXi994"
      }
    },
    {
      "cell_type": "code",
      "source": [
        "questions = sub_ques"
      ],
      "metadata": {
        "id": "JHWMWE64A6v1"
      },
      "execution_count": 49,
      "outputs": []
    },
    {
      "cell_type": "code",
      "source": [
        "from datetime import datetime\n",
        "import time\n"
      ],
      "metadata": {
        "id": "Ut8iGDm0CKoF"
      },
      "execution_count": 52,
      "outputs": []
    },
    {
      "cell_type": "code",
      "source": [
        "import asyncio\n",
        "from concurrent.futures import ThreadPoolExecutor\n",
        "\n",
        "\n",
        "# This will run your sync function concurrently using threads\n",
        "async def run_queries_concurrently(questions):\n",
        "    loop = asyncio.get_running_loop()\n",
        "    with ThreadPoolExecutor() as executor:\n",
        "        tasks = [\n",
        "            loop.run_in_executor(executor, agentic_rag, question)\n",
        "            for question in questions\n",
        "        ]\n",
        "        results = await asyncio.gather(*tasks)\n",
        "    return results\n",
        "\n",
        "start_time = time.time()\n",
        "print(f\"\\n⏱️ start time : {start_time}\")\n",
        "\n",
        "results = await run_queries_concurrently(questions)\n",
        "end_time = time.time()\n",
        "print(f\"\\n⏱️ end time : {end_time}\")\n",
        "print(f\"\\n⏱️ Total time taken: {end_time - start_time:.2f} seconds\")\n",
        "\n",
        "# Print results\n",
        "for i, res in enumerate(results, 1):\n",
        "    print(f\"\\nQuestion {i} Answer:\\n{res}\")\n",
        "\n"
      ],
      "metadata": {
        "colab": {
          "base_uri": "https://localhost:8080/"
        },
        "id": "pXerHfQoAyeO",
        "outputId": "ddbd1c8d-24c0-46c7-9512-45833498c504"
      },
      "execution_count": 54,
      "outputs": [
        {
          "output_type": "stream",
          "name": "stdout",
          "text": [
            "\n",
            "⏱️ start time : 1746710137.7473886\n",
            "Getting your response from the internet 🌐 ...\n",
            "The CEO of Lyft is David Risher. He has been serving as the Chief Executive Officer since April 2023 and is also a member of the board of directors since July 2021. \n",
            "\n",
            "For more information, you can visit the following links:\n",
            "- [Management Team - Lyft, Inc.](https://investor.lyft.com/governance/management/default.aspx)\n",
            "- [David Risher - Wikipedia](https://en.wikipedia.org/wiki/David_Risher)\n",
            "- [Lyft Announces Leadership Succession Plan](https://investor.lyft.com/news-and-events/news/news-details/2023/Lyft-Announces-Leadership-Succession-Plan/default.aspx)\n",
            "\n",
            "Lyft reported total revenue of $5,786,016 thousand (approximately $5.8 billion) for the year ended December 31, 2024 [2].\n",
            "\n",
            "\n",
            "⏱️ start time : 1746710145.3577561\n",
            "\n",
            "⏱️ Total time taken: 7.61 seconds\n",
            "\n",
            "Question 1 Answer:\n",
            "The CEO of Lyft is David Risher. He has been serving as the Chief Executive Officer since April 2023 and is also a member of the board of directors since July 2021. \n",
            "\n",
            "For more information, you can visit the following links:\n",
            "- [Management Team - Lyft, Inc.](https://investor.lyft.com/governance/management/default.aspx)\n",
            "- [David Risher - Wikipedia](https://en.wikipedia.org/wiki/David_Risher)\n",
            "- [Lyft Announces Leadership Succession Plan](https://investor.lyft.com/news-and-events/news/news-details/2023/Lyft-Announces-Leadership-Succession-Plan/default.aspx)\n",
            "\n",
            "Question 2 Answer:\n",
            "Lyft reported total revenue of $5,786,016 thousand (approximately $5.8 billion) for the year ended December 31, 2024 [2].\n"
          ]
        }
      ]
    },
    {
      "cell_type": "markdown",
      "source": [
        "#comparision without async method"
      ],
      "metadata": {
        "id": "A2sTDwNiS719"
      }
    },
    {
      "cell_type": "code",
      "source": [
        "sub_asnwer_combined = []\n",
        "start_time = time.time()\n",
        "print(f\"\\n⏱️ start time : {start_time}\")\n",
        "for i in sub_ques:\n",
        "  sub_answer = agentic_rag(i)\n",
        "  sub_asnwer_combined.append(sub_answer)\n",
        "\n",
        "print(f\"\\n⏱️ start time : {end_time}\")\n",
        "print(f\"\\n⏱️ Total time taken: {end_time - start_time:.2f} seconds\")\n"
      ],
      "metadata": {
        "id": "balXhGMLi846",
        "colab": {
          "base_uri": "https://localhost:8080/"
        },
        "outputId": "334c6e45-ac2a-414d-a6fd-1334877b446c"
      },
      "execution_count": 56,
      "outputs": [
        {
          "output_type": "stream",
          "name": "stdout",
          "text": [
            "\n",
            "⏱️ start time : 1746710266.6153305\n",
            "Getting your response from the internet 🌐 ...\n",
            "The CEO of Lyft is David Risher. He has been serving as the Chief Executive Officer since April 2023 and is also a member of the board of directors since July 2021. \n",
            "\n",
            "For more information, you can visit the following links:\n",
            "- [Management Team - Lyft, Inc.](https://investor.lyft.com/governance/management/default.aspx)\n",
            "- [David Risher - Wikipedia](https://en.wikipedia.org/wiki/David_Risher)\n",
            "- [Lyft Announces Leadership Succession Plan](https://investor.lyft.com/news-and-events/news/news-details/2023/Lyft-Announces-Leadership-Succession-Plan/default.aspx)\n",
            "\n",
            "Lyft reported revenue of $5,786,016 thousand (i.e. approximately $5.79 billion) for the year ended December 31, 2024 [2].\n",
            "\n",
            "\n",
            "⏱️ start time : 1746710145.3577561\n",
            "\n",
            "⏱️ Total time taken: -121.26 seconds\n"
          ]
        }
      ]
    },
    {
      "cell_type": "code",
      "source": [],
      "metadata": {
        "id": "cGAsaRErS5rc"
      },
      "execution_count": null,
      "outputs": []
    },
    {
      "cell_type": "code",
      "source": [],
      "metadata": {
        "id": "rZk5ZyuxS5un"
      },
      "execution_count": null,
      "outputs": []
    },
    {
      "cell_type": "code",
      "source": [],
      "metadata": {
        "id": "dhuzEUvZS5xd"
      },
      "execution_count": null,
      "outputs": []
    }
  ],
  "metadata": {
    "colab": {
      "provenance": [],
      "include_colab_link": true
    },
    "kernelspec": {
      "display_name": "Python 3",
      "name": "python3"
    },
    "language_info": {
      "name": "python"
    },
    "widgets": {
      "application/vnd.jupyter.widget-state+json": {
        "4e7bf0deca284dab8545efed1533f7d6": {
          "model_module": "@jupyter-widgets/controls",
          "model_name": "HBoxModel",
          "model_module_version": "1.5.0",
          "state": {
            "_dom_classes": [],
            "_model_module": "@jupyter-widgets/controls",
            "_model_module_version": "1.5.0",
            "_model_name": "HBoxModel",
            "_view_count": null,
            "_view_module": "@jupyter-widgets/controls",
            "_view_module_version": "1.5.0",
            "_view_name": "HBoxView",
            "box_style": "",
            "children": [
              "IPY_MODEL_4c1a2bc621f4485ca946f0b4fc7af52b",
              "IPY_MODEL_3e7f1fa5e74d42c6bf172dc339d0b969",
              "IPY_MODEL_8c67518742bb443cac66a4985495e783"
            ],
            "layout": "IPY_MODEL_fea3ae82855f43ee96e4c1ad9080a500"
          }
        },
        "4c1a2bc621f4485ca946f0b4fc7af52b": {
          "model_module": "@jupyter-widgets/controls",
          "model_name": "HTMLModel",
          "model_module_version": "1.5.0",
          "state": {
            "_dom_classes": [],
            "_model_module": "@jupyter-widgets/controls",
            "_model_module_version": "1.5.0",
            "_model_name": "HTMLModel",
            "_view_count": null,
            "_view_module": "@jupyter-widgets/controls",
            "_view_module_version": "1.5.0",
            "_view_name": "HTMLView",
            "description": "",
            "description_tooltip": null,
            "layout": "IPY_MODEL_9fbe84e2b344425f9a9b87147c5d7624",
            "placeholder": "​",
            "style": "IPY_MODEL_a019333bb3894a608cc61d74f138782c",
            "value": "tokenizer_config.json: 100%"
          }
        },
        "3e7f1fa5e74d42c6bf172dc339d0b969": {
          "model_module": "@jupyter-widgets/controls",
          "model_name": "FloatProgressModel",
          "model_module_version": "1.5.0",
          "state": {
            "_dom_classes": [],
            "_model_module": "@jupyter-widgets/controls",
            "_model_module_version": "1.5.0",
            "_model_name": "FloatProgressModel",
            "_view_count": null,
            "_view_module": "@jupyter-widgets/controls",
            "_view_module_version": "1.5.0",
            "_view_name": "ProgressView",
            "bar_style": "success",
            "description": "",
            "description_tooltip": null,
            "layout": "IPY_MODEL_2b50673c8be5463fbc2eefffce26357a",
            "max": 1191,
            "min": 0,
            "orientation": "horizontal",
            "style": "IPY_MODEL_10fa43b614d849c69018976fe8efdf96",
            "value": 1191
          }
        },
        "8c67518742bb443cac66a4985495e783": {
          "model_module": "@jupyter-widgets/controls",
          "model_name": "HTMLModel",
          "model_module_version": "1.5.0",
          "state": {
            "_dom_classes": [],
            "_model_module": "@jupyter-widgets/controls",
            "_model_module_version": "1.5.0",
            "_model_name": "HTMLModel",
            "_view_count": null,
            "_view_module": "@jupyter-widgets/controls",
            "_view_module_version": "1.5.0",
            "_view_name": "HTMLView",
            "description": "",
            "description_tooltip": null,
            "layout": "IPY_MODEL_11dbe461126d4164becfc4fe13980597",
            "placeholder": "​",
            "style": "IPY_MODEL_d6e8e19f66f14257a032d79c1df4fa81",
            "value": " 1.19k/1.19k [00:00&lt;00:00, 83.0kB/s]"
          }
        },
        "fea3ae82855f43ee96e4c1ad9080a500": {
          "model_module": "@jupyter-widgets/base",
          "model_name": "LayoutModel",
          "model_module_version": "1.2.0",
          "state": {
            "_model_module": "@jupyter-widgets/base",
            "_model_module_version": "1.2.0",
            "_model_name": "LayoutModel",
            "_view_count": null,
            "_view_module": "@jupyter-widgets/base",
            "_view_module_version": "1.2.0",
            "_view_name": "LayoutView",
            "align_content": null,
            "align_items": null,
            "align_self": null,
            "border": null,
            "bottom": null,
            "display": null,
            "flex": null,
            "flex_flow": null,
            "grid_area": null,
            "grid_auto_columns": null,
            "grid_auto_flow": null,
            "grid_auto_rows": null,
            "grid_column": null,
            "grid_gap": null,
            "grid_row": null,
            "grid_template_areas": null,
            "grid_template_columns": null,
            "grid_template_rows": null,
            "height": null,
            "justify_content": null,
            "justify_items": null,
            "left": null,
            "margin": null,
            "max_height": null,
            "max_width": null,
            "min_height": null,
            "min_width": null,
            "object_fit": null,
            "object_position": null,
            "order": null,
            "overflow": null,
            "overflow_x": null,
            "overflow_y": null,
            "padding": null,
            "right": null,
            "top": null,
            "visibility": null,
            "width": null
          }
        },
        "9fbe84e2b344425f9a9b87147c5d7624": {
          "model_module": "@jupyter-widgets/base",
          "model_name": "LayoutModel",
          "model_module_version": "1.2.0",
          "state": {
            "_model_module": "@jupyter-widgets/base",
            "_model_module_version": "1.2.0",
            "_model_name": "LayoutModel",
            "_view_count": null,
            "_view_module": "@jupyter-widgets/base",
            "_view_module_version": "1.2.0",
            "_view_name": "LayoutView",
            "align_content": null,
            "align_items": null,
            "align_self": null,
            "border": null,
            "bottom": null,
            "display": null,
            "flex": null,
            "flex_flow": null,
            "grid_area": null,
            "grid_auto_columns": null,
            "grid_auto_flow": null,
            "grid_auto_rows": null,
            "grid_column": null,
            "grid_gap": null,
            "grid_row": null,
            "grid_template_areas": null,
            "grid_template_columns": null,
            "grid_template_rows": null,
            "height": null,
            "justify_content": null,
            "justify_items": null,
            "left": null,
            "margin": null,
            "max_height": null,
            "max_width": null,
            "min_height": null,
            "min_width": null,
            "object_fit": null,
            "object_position": null,
            "order": null,
            "overflow": null,
            "overflow_x": null,
            "overflow_y": null,
            "padding": null,
            "right": null,
            "top": null,
            "visibility": null,
            "width": null
          }
        },
        "a019333bb3894a608cc61d74f138782c": {
          "model_module": "@jupyter-widgets/controls",
          "model_name": "DescriptionStyleModel",
          "model_module_version": "1.5.0",
          "state": {
            "_model_module": "@jupyter-widgets/controls",
            "_model_module_version": "1.5.0",
            "_model_name": "DescriptionStyleModel",
            "_view_count": null,
            "_view_module": "@jupyter-widgets/base",
            "_view_module_version": "1.2.0",
            "_view_name": "StyleView",
            "description_width": ""
          }
        },
        "2b50673c8be5463fbc2eefffce26357a": {
          "model_module": "@jupyter-widgets/base",
          "model_name": "LayoutModel",
          "model_module_version": "1.2.0",
          "state": {
            "_model_module": "@jupyter-widgets/base",
            "_model_module_version": "1.2.0",
            "_model_name": "LayoutModel",
            "_view_count": null,
            "_view_module": "@jupyter-widgets/base",
            "_view_module_version": "1.2.0",
            "_view_name": "LayoutView",
            "align_content": null,
            "align_items": null,
            "align_self": null,
            "border": null,
            "bottom": null,
            "display": null,
            "flex": null,
            "flex_flow": null,
            "grid_area": null,
            "grid_auto_columns": null,
            "grid_auto_flow": null,
            "grid_auto_rows": null,
            "grid_column": null,
            "grid_gap": null,
            "grid_row": null,
            "grid_template_areas": null,
            "grid_template_columns": null,
            "grid_template_rows": null,
            "height": null,
            "justify_content": null,
            "justify_items": null,
            "left": null,
            "margin": null,
            "max_height": null,
            "max_width": null,
            "min_height": null,
            "min_width": null,
            "object_fit": null,
            "object_position": null,
            "order": null,
            "overflow": null,
            "overflow_x": null,
            "overflow_y": null,
            "padding": null,
            "right": null,
            "top": null,
            "visibility": null,
            "width": null
          }
        },
        "10fa43b614d849c69018976fe8efdf96": {
          "model_module": "@jupyter-widgets/controls",
          "model_name": "ProgressStyleModel",
          "model_module_version": "1.5.0",
          "state": {
            "_model_module": "@jupyter-widgets/controls",
            "_model_module_version": "1.5.0",
            "_model_name": "ProgressStyleModel",
            "_view_count": null,
            "_view_module": "@jupyter-widgets/base",
            "_view_module_version": "1.2.0",
            "_view_name": "StyleView",
            "bar_color": null,
            "description_width": ""
          }
        },
        "11dbe461126d4164becfc4fe13980597": {
          "model_module": "@jupyter-widgets/base",
          "model_name": "LayoutModel",
          "model_module_version": "1.2.0",
          "state": {
            "_model_module": "@jupyter-widgets/base",
            "_model_module_version": "1.2.0",
            "_model_name": "LayoutModel",
            "_view_count": null,
            "_view_module": "@jupyter-widgets/base",
            "_view_module_version": "1.2.0",
            "_view_name": "LayoutView",
            "align_content": null,
            "align_items": null,
            "align_self": null,
            "border": null,
            "bottom": null,
            "display": null,
            "flex": null,
            "flex_flow": null,
            "grid_area": null,
            "grid_auto_columns": null,
            "grid_auto_flow": null,
            "grid_auto_rows": null,
            "grid_column": null,
            "grid_gap": null,
            "grid_row": null,
            "grid_template_areas": null,
            "grid_template_columns": null,
            "grid_template_rows": null,
            "height": null,
            "justify_content": null,
            "justify_items": null,
            "left": null,
            "margin": null,
            "max_height": null,
            "max_width": null,
            "min_height": null,
            "min_width": null,
            "object_fit": null,
            "object_position": null,
            "order": null,
            "overflow": null,
            "overflow_x": null,
            "overflow_y": null,
            "padding": null,
            "right": null,
            "top": null,
            "visibility": null,
            "width": null
          }
        },
        "d6e8e19f66f14257a032d79c1df4fa81": {
          "model_module": "@jupyter-widgets/controls",
          "model_name": "DescriptionStyleModel",
          "model_module_version": "1.5.0",
          "state": {
            "_model_module": "@jupyter-widgets/controls",
            "_model_module_version": "1.5.0",
            "_model_name": "DescriptionStyleModel",
            "_view_count": null,
            "_view_module": "@jupyter-widgets/base",
            "_view_module_version": "1.2.0",
            "_view_name": "StyleView",
            "description_width": ""
          }
        },
        "344c9d9e67a54e23a1e3e4386b710818": {
          "model_module": "@jupyter-widgets/controls",
          "model_name": "HBoxModel",
          "model_module_version": "1.5.0",
          "state": {
            "_dom_classes": [],
            "_model_module": "@jupyter-widgets/controls",
            "_model_module_version": "1.5.0",
            "_model_name": "HBoxModel",
            "_view_count": null,
            "_view_module": "@jupyter-widgets/controls",
            "_view_module_version": "1.5.0",
            "_view_name": "HBoxView",
            "box_style": "",
            "children": [
              "IPY_MODEL_1a67e8aba672403f90f4bdd3977ebc15",
              "IPY_MODEL_7bda39b9be4442a2b512389ae806a623",
              "IPY_MODEL_66438c79ef254e3880130c95cf99c74b"
            ],
            "layout": "IPY_MODEL_526ab4c5f73b416ea089794cd27b4103"
          }
        },
        "1a67e8aba672403f90f4bdd3977ebc15": {
          "model_module": "@jupyter-widgets/controls",
          "model_name": "HTMLModel",
          "model_module_version": "1.5.0",
          "state": {
            "_dom_classes": [],
            "_model_module": "@jupyter-widgets/controls",
            "_model_module_version": "1.5.0",
            "_model_name": "HTMLModel",
            "_view_count": null,
            "_view_module": "@jupyter-widgets/controls",
            "_view_module_version": "1.5.0",
            "_view_name": "HTMLView",
            "description": "",
            "description_tooltip": null,
            "layout": "IPY_MODEL_f5e02b1df4404e3ab54046f49476fbbc",
            "placeholder": "​",
            "style": "IPY_MODEL_9474b65ea6534222a4b4c388cb8b60cf",
            "value": "vocab.txt: 100%"
          }
        },
        "7bda39b9be4442a2b512389ae806a623": {
          "model_module": "@jupyter-widgets/controls",
          "model_name": "FloatProgressModel",
          "model_module_version": "1.5.0",
          "state": {
            "_dom_classes": [],
            "_model_module": "@jupyter-widgets/controls",
            "_model_module_version": "1.5.0",
            "_model_name": "FloatProgressModel",
            "_view_count": null,
            "_view_module": "@jupyter-widgets/controls",
            "_view_module_version": "1.5.0",
            "_view_name": "ProgressView",
            "bar_style": "success",
            "description": "",
            "description_tooltip": null,
            "layout": "IPY_MODEL_1ace0af81e9649b5a0ac89bf3b5951be",
            "max": 231508,
            "min": 0,
            "orientation": "horizontal",
            "style": "IPY_MODEL_7e13e54a701a4da2bff0d40a68c1f9fb",
            "value": 231508
          }
        },
        "66438c79ef254e3880130c95cf99c74b": {
          "model_module": "@jupyter-widgets/controls",
          "model_name": "HTMLModel",
          "model_module_version": "1.5.0",
          "state": {
            "_dom_classes": [],
            "_model_module": "@jupyter-widgets/controls",
            "_model_module_version": "1.5.0",
            "_model_name": "HTMLModel",
            "_view_count": null,
            "_view_module": "@jupyter-widgets/controls",
            "_view_module_version": "1.5.0",
            "_view_name": "HTMLView",
            "description": "",
            "description_tooltip": null,
            "layout": "IPY_MODEL_495f310d1b1049b68363869d026e0bb2",
            "placeholder": "​",
            "style": "IPY_MODEL_fd1e7625168049b3906c0b4f107e906d",
            "value": " 232k/232k [00:00&lt;00:00, 3.07MB/s]"
          }
        },
        "526ab4c5f73b416ea089794cd27b4103": {
          "model_module": "@jupyter-widgets/base",
          "model_name": "LayoutModel",
          "model_module_version": "1.2.0",
          "state": {
            "_model_module": "@jupyter-widgets/base",
            "_model_module_version": "1.2.0",
            "_model_name": "LayoutModel",
            "_view_count": null,
            "_view_module": "@jupyter-widgets/base",
            "_view_module_version": "1.2.0",
            "_view_name": "LayoutView",
            "align_content": null,
            "align_items": null,
            "align_self": null,
            "border": null,
            "bottom": null,
            "display": null,
            "flex": null,
            "flex_flow": null,
            "grid_area": null,
            "grid_auto_columns": null,
            "grid_auto_flow": null,
            "grid_auto_rows": null,
            "grid_column": null,
            "grid_gap": null,
            "grid_row": null,
            "grid_template_areas": null,
            "grid_template_columns": null,
            "grid_template_rows": null,
            "height": null,
            "justify_content": null,
            "justify_items": null,
            "left": null,
            "margin": null,
            "max_height": null,
            "max_width": null,
            "min_height": null,
            "min_width": null,
            "object_fit": null,
            "object_position": null,
            "order": null,
            "overflow": null,
            "overflow_x": null,
            "overflow_y": null,
            "padding": null,
            "right": null,
            "top": null,
            "visibility": null,
            "width": null
          }
        },
        "f5e02b1df4404e3ab54046f49476fbbc": {
          "model_module": "@jupyter-widgets/base",
          "model_name": "LayoutModel",
          "model_module_version": "1.2.0",
          "state": {
            "_model_module": "@jupyter-widgets/base",
            "_model_module_version": "1.2.0",
            "_model_name": "LayoutModel",
            "_view_count": null,
            "_view_module": "@jupyter-widgets/base",
            "_view_module_version": "1.2.0",
            "_view_name": "LayoutView",
            "align_content": null,
            "align_items": null,
            "align_self": null,
            "border": null,
            "bottom": null,
            "display": null,
            "flex": null,
            "flex_flow": null,
            "grid_area": null,
            "grid_auto_columns": null,
            "grid_auto_flow": null,
            "grid_auto_rows": null,
            "grid_column": null,
            "grid_gap": null,
            "grid_row": null,
            "grid_template_areas": null,
            "grid_template_columns": null,
            "grid_template_rows": null,
            "height": null,
            "justify_content": null,
            "justify_items": null,
            "left": null,
            "margin": null,
            "max_height": null,
            "max_width": null,
            "min_height": null,
            "min_width": null,
            "object_fit": null,
            "object_position": null,
            "order": null,
            "overflow": null,
            "overflow_x": null,
            "overflow_y": null,
            "padding": null,
            "right": null,
            "top": null,
            "visibility": null,
            "width": null
          }
        },
        "9474b65ea6534222a4b4c388cb8b60cf": {
          "model_module": "@jupyter-widgets/controls",
          "model_name": "DescriptionStyleModel",
          "model_module_version": "1.5.0",
          "state": {
            "_model_module": "@jupyter-widgets/controls",
            "_model_module_version": "1.5.0",
            "_model_name": "DescriptionStyleModel",
            "_view_count": null,
            "_view_module": "@jupyter-widgets/base",
            "_view_module_version": "1.2.0",
            "_view_name": "StyleView",
            "description_width": ""
          }
        },
        "1ace0af81e9649b5a0ac89bf3b5951be": {
          "model_module": "@jupyter-widgets/base",
          "model_name": "LayoutModel",
          "model_module_version": "1.2.0",
          "state": {
            "_model_module": "@jupyter-widgets/base",
            "_model_module_version": "1.2.0",
            "_model_name": "LayoutModel",
            "_view_count": null,
            "_view_module": "@jupyter-widgets/base",
            "_view_module_version": "1.2.0",
            "_view_name": "LayoutView",
            "align_content": null,
            "align_items": null,
            "align_self": null,
            "border": null,
            "bottom": null,
            "display": null,
            "flex": null,
            "flex_flow": null,
            "grid_area": null,
            "grid_auto_columns": null,
            "grid_auto_flow": null,
            "grid_auto_rows": null,
            "grid_column": null,
            "grid_gap": null,
            "grid_row": null,
            "grid_template_areas": null,
            "grid_template_columns": null,
            "grid_template_rows": null,
            "height": null,
            "justify_content": null,
            "justify_items": null,
            "left": null,
            "margin": null,
            "max_height": null,
            "max_width": null,
            "min_height": null,
            "min_width": null,
            "object_fit": null,
            "object_position": null,
            "order": null,
            "overflow": null,
            "overflow_x": null,
            "overflow_y": null,
            "padding": null,
            "right": null,
            "top": null,
            "visibility": null,
            "width": null
          }
        },
        "7e13e54a701a4da2bff0d40a68c1f9fb": {
          "model_module": "@jupyter-widgets/controls",
          "model_name": "ProgressStyleModel",
          "model_module_version": "1.5.0",
          "state": {
            "_model_module": "@jupyter-widgets/controls",
            "_model_module_version": "1.5.0",
            "_model_name": "ProgressStyleModel",
            "_view_count": null,
            "_view_module": "@jupyter-widgets/base",
            "_view_module_version": "1.2.0",
            "_view_name": "StyleView",
            "bar_color": null,
            "description_width": ""
          }
        },
        "495f310d1b1049b68363869d026e0bb2": {
          "model_module": "@jupyter-widgets/base",
          "model_name": "LayoutModel",
          "model_module_version": "1.2.0",
          "state": {
            "_model_module": "@jupyter-widgets/base",
            "_model_module_version": "1.2.0",
            "_model_name": "LayoutModel",
            "_view_count": null,
            "_view_module": "@jupyter-widgets/base",
            "_view_module_version": "1.2.0",
            "_view_name": "LayoutView",
            "align_content": null,
            "align_items": null,
            "align_self": null,
            "border": null,
            "bottom": null,
            "display": null,
            "flex": null,
            "flex_flow": null,
            "grid_area": null,
            "grid_auto_columns": null,
            "grid_auto_flow": null,
            "grid_auto_rows": null,
            "grid_column": null,
            "grid_gap": null,
            "grid_row": null,
            "grid_template_areas": null,
            "grid_template_columns": null,
            "grid_template_rows": null,
            "height": null,
            "justify_content": null,
            "justify_items": null,
            "left": null,
            "margin": null,
            "max_height": null,
            "max_width": null,
            "min_height": null,
            "min_width": null,
            "object_fit": null,
            "object_position": null,
            "order": null,
            "overflow": null,
            "overflow_x": null,
            "overflow_y": null,
            "padding": null,
            "right": null,
            "top": null,
            "visibility": null,
            "width": null
          }
        },
        "fd1e7625168049b3906c0b4f107e906d": {
          "model_module": "@jupyter-widgets/controls",
          "model_name": "DescriptionStyleModel",
          "model_module_version": "1.5.0",
          "state": {
            "_model_module": "@jupyter-widgets/controls",
            "_model_module_version": "1.5.0",
            "_model_name": "DescriptionStyleModel",
            "_view_count": null,
            "_view_module": "@jupyter-widgets/base",
            "_view_module_version": "1.2.0",
            "_view_name": "StyleView",
            "description_width": ""
          }
        },
        "1a5bdeb3585b40589029f4f50aa79db6": {
          "model_module": "@jupyter-widgets/controls",
          "model_name": "HBoxModel",
          "model_module_version": "1.5.0",
          "state": {
            "_dom_classes": [],
            "_model_module": "@jupyter-widgets/controls",
            "_model_module_version": "1.5.0",
            "_model_name": "HBoxModel",
            "_view_count": null,
            "_view_module": "@jupyter-widgets/controls",
            "_view_module_version": "1.5.0",
            "_view_name": "HBoxView",
            "box_style": "",
            "children": [
              "IPY_MODEL_3602fd5404de41979920443c1e94036e",
              "IPY_MODEL_d45fc124fcc3425aa6e4e7f07aa7e294",
              "IPY_MODEL_edc3eb08de7b4071b081e1dfb10e982e"
            ],
            "layout": "IPY_MODEL_988b8b67b3ce48cf8ddbca2b183a1ca9"
          }
        },
        "3602fd5404de41979920443c1e94036e": {
          "model_module": "@jupyter-widgets/controls",
          "model_name": "HTMLModel",
          "model_module_version": "1.5.0",
          "state": {
            "_dom_classes": [],
            "_model_module": "@jupyter-widgets/controls",
            "_model_module_version": "1.5.0",
            "_model_name": "HTMLModel",
            "_view_count": null,
            "_view_module": "@jupyter-widgets/controls",
            "_view_module_version": "1.5.0",
            "_view_name": "HTMLView",
            "description": "",
            "description_tooltip": null,
            "layout": "IPY_MODEL_e8131317e8e44fa5829c5f7646d21cd5",
            "placeholder": "​",
            "style": "IPY_MODEL_06e350fdab3c4734b5cbc47cc7b7eeb3",
            "value": "tokenizer.json: 100%"
          }
        },
        "d45fc124fcc3425aa6e4e7f07aa7e294": {
          "model_module": "@jupyter-widgets/controls",
          "model_name": "FloatProgressModel",
          "model_module_version": "1.5.0",
          "state": {
            "_dom_classes": [],
            "_model_module": "@jupyter-widgets/controls",
            "_model_module_version": "1.5.0",
            "_model_name": "FloatProgressModel",
            "_view_count": null,
            "_view_module": "@jupyter-widgets/controls",
            "_view_module_version": "1.5.0",
            "_view_name": "ProgressView",
            "bar_style": "success",
            "description": "",
            "description_tooltip": null,
            "layout": "IPY_MODEL_8d9cdce35a7c47298ddd0010185fc10e",
            "max": 711396,
            "min": 0,
            "orientation": "horizontal",
            "style": "IPY_MODEL_f80eb296e50a4ebeabd5f35669ae1873",
            "value": 711396
          }
        },
        "edc3eb08de7b4071b081e1dfb10e982e": {
          "model_module": "@jupyter-widgets/controls",
          "model_name": "HTMLModel",
          "model_module_version": "1.5.0",
          "state": {
            "_dom_classes": [],
            "_model_module": "@jupyter-widgets/controls",
            "_model_module_version": "1.5.0",
            "_model_name": "HTMLModel",
            "_view_count": null,
            "_view_module": "@jupyter-widgets/controls",
            "_view_module_version": "1.5.0",
            "_view_name": "HTMLView",
            "description": "",
            "description_tooltip": null,
            "layout": "IPY_MODEL_2f1fc19e53ca41e1b934442a380b6f30",
            "placeholder": "​",
            "style": "IPY_MODEL_b5e38e0e2d3a4e169fface84405f3dfc",
            "value": " 711k/711k [00:00&lt;00:00, 8.35MB/s]"
          }
        },
        "988b8b67b3ce48cf8ddbca2b183a1ca9": {
          "model_module": "@jupyter-widgets/base",
          "model_name": "LayoutModel",
          "model_module_version": "1.2.0",
          "state": {
            "_model_module": "@jupyter-widgets/base",
            "_model_module_version": "1.2.0",
            "_model_name": "LayoutModel",
            "_view_count": null,
            "_view_module": "@jupyter-widgets/base",
            "_view_module_version": "1.2.0",
            "_view_name": "LayoutView",
            "align_content": null,
            "align_items": null,
            "align_self": null,
            "border": null,
            "bottom": null,
            "display": null,
            "flex": null,
            "flex_flow": null,
            "grid_area": null,
            "grid_auto_columns": null,
            "grid_auto_flow": null,
            "grid_auto_rows": null,
            "grid_column": null,
            "grid_gap": null,
            "grid_row": null,
            "grid_template_areas": null,
            "grid_template_columns": null,
            "grid_template_rows": null,
            "height": null,
            "justify_content": null,
            "justify_items": null,
            "left": null,
            "margin": null,
            "max_height": null,
            "max_width": null,
            "min_height": null,
            "min_width": null,
            "object_fit": null,
            "object_position": null,
            "order": null,
            "overflow": null,
            "overflow_x": null,
            "overflow_y": null,
            "padding": null,
            "right": null,
            "top": null,
            "visibility": null,
            "width": null
          }
        },
        "e8131317e8e44fa5829c5f7646d21cd5": {
          "model_module": "@jupyter-widgets/base",
          "model_name": "LayoutModel",
          "model_module_version": "1.2.0",
          "state": {
            "_model_module": "@jupyter-widgets/base",
            "_model_module_version": "1.2.0",
            "_model_name": "LayoutModel",
            "_view_count": null,
            "_view_module": "@jupyter-widgets/base",
            "_view_module_version": "1.2.0",
            "_view_name": "LayoutView",
            "align_content": null,
            "align_items": null,
            "align_self": null,
            "border": null,
            "bottom": null,
            "display": null,
            "flex": null,
            "flex_flow": null,
            "grid_area": null,
            "grid_auto_columns": null,
            "grid_auto_flow": null,
            "grid_auto_rows": null,
            "grid_column": null,
            "grid_gap": null,
            "grid_row": null,
            "grid_template_areas": null,
            "grid_template_columns": null,
            "grid_template_rows": null,
            "height": null,
            "justify_content": null,
            "justify_items": null,
            "left": null,
            "margin": null,
            "max_height": null,
            "max_width": null,
            "min_height": null,
            "min_width": null,
            "object_fit": null,
            "object_position": null,
            "order": null,
            "overflow": null,
            "overflow_x": null,
            "overflow_y": null,
            "padding": null,
            "right": null,
            "top": null,
            "visibility": null,
            "width": null
          }
        },
        "06e350fdab3c4734b5cbc47cc7b7eeb3": {
          "model_module": "@jupyter-widgets/controls",
          "model_name": "DescriptionStyleModel",
          "model_module_version": "1.5.0",
          "state": {
            "_model_module": "@jupyter-widgets/controls",
            "_model_module_version": "1.5.0",
            "_model_name": "DescriptionStyleModel",
            "_view_count": null,
            "_view_module": "@jupyter-widgets/base",
            "_view_module_version": "1.2.0",
            "_view_name": "StyleView",
            "description_width": ""
          }
        },
        "8d9cdce35a7c47298ddd0010185fc10e": {
          "model_module": "@jupyter-widgets/base",
          "model_name": "LayoutModel",
          "model_module_version": "1.2.0",
          "state": {
            "_model_module": "@jupyter-widgets/base",
            "_model_module_version": "1.2.0",
            "_model_name": "LayoutModel",
            "_view_count": null,
            "_view_module": "@jupyter-widgets/base",
            "_view_module_version": "1.2.0",
            "_view_name": "LayoutView",
            "align_content": null,
            "align_items": null,
            "align_self": null,
            "border": null,
            "bottom": null,
            "display": null,
            "flex": null,
            "flex_flow": null,
            "grid_area": null,
            "grid_auto_columns": null,
            "grid_auto_flow": null,
            "grid_auto_rows": null,
            "grid_column": null,
            "grid_gap": null,
            "grid_row": null,
            "grid_template_areas": null,
            "grid_template_columns": null,
            "grid_template_rows": null,
            "height": null,
            "justify_content": null,
            "justify_items": null,
            "left": null,
            "margin": null,
            "max_height": null,
            "max_width": null,
            "min_height": null,
            "min_width": null,
            "object_fit": null,
            "object_position": null,
            "order": null,
            "overflow": null,
            "overflow_x": null,
            "overflow_y": null,
            "padding": null,
            "right": null,
            "top": null,
            "visibility": null,
            "width": null
          }
        },
        "f80eb296e50a4ebeabd5f35669ae1873": {
          "model_module": "@jupyter-widgets/controls",
          "model_name": "ProgressStyleModel",
          "model_module_version": "1.5.0",
          "state": {
            "_model_module": "@jupyter-widgets/controls",
            "_model_module_version": "1.5.0",
            "_model_name": "ProgressStyleModel",
            "_view_count": null,
            "_view_module": "@jupyter-widgets/base",
            "_view_module_version": "1.2.0",
            "_view_name": "StyleView",
            "bar_color": null,
            "description_width": ""
          }
        },
        "2f1fc19e53ca41e1b934442a380b6f30": {
          "model_module": "@jupyter-widgets/base",
          "model_name": "LayoutModel",
          "model_module_version": "1.2.0",
          "state": {
            "_model_module": "@jupyter-widgets/base",
            "_model_module_version": "1.2.0",
            "_model_name": "LayoutModel",
            "_view_count": null,
            "_view_module": "@jupyter-widgets/base",
            "_view_module_version": "1.2.0",
            "_view_name": "LayoutView",
            "align_content": null,
            "align_items": null,
            "align_self": null,
            "border": null,
            "bottom": null,
            "display": null,
            "flex": null,
            "flex_flow": null,
            "grid_area": null,
            "grid_auto_columns": null,
            "grid_auto_flow": null,
            "grid_auto_rows": null,
            "grid_column": null,
            "grid_gap": null,
            "grid_row": null,
            "grid_template_areas": null,
            "grid_template_columns": null,
            "grid_template_rows": null,
            "height": null,
            "justify_content": null,
            "justify_items": null,
            "left": null,
            "margin": null,
            "max_height": null,
            "max_width": null,
            "min_height": null,
            "min_width": null,
            "object_fit": null,
            "object_position": null,
            "order": null,
            "overflow": null,
            "overflow_x": null,
            "overflow_y": null,
            "padding": null,
            "right": null,
            "top": null,
            "visibility": null,
            "width": null
          }
        },
        "b5e38e0e2d3a4e169fface84405f3dfc": {
          "model_module": "@jupyter-widgets/controls",
          "model_name": "DescriptionStyleModel",
          "model_module_version": "1.5.0",
          "state": {
            "_model_module": "@jupyter-widgets/controls",
            "_model_module_version": "1.5.0",
            "_model_name": "DescriptionStyleModel",
            "_view_count": null,
            "_view_module": "@jupyter-widgets/base",
            "_view_module_version": "1.2.0",
            "_view_name": "StyleView",
            "description_width": ""
          }
        },
        "cf6da5f7350f4e0094a8499cde3a449f": {
          "model_module": "@jupyter-widgets/controls",
          "model_name": "HBoxModel",
          "model_module_version": "1.5.0",
          "state": {
            "_dom_classes": [],
            "_model_module": "@jupyter-widgets/controls",
            "_model_module_version": "1.5.0",
            "_model_name": "HBoxModel",
            "_view_count": null,
            "_view_module": "@jupyter-widgets/controls",
            "_view_module_version": "1.5.0",
            "_view_name": "HBoxView",
            "box_style": "",
            "children": [
              "IPY_MODEL_d1c1f6ab478848b1acafbcc3174ec88d",
              "IPY_MODEL_95ca2f9ece9746a8b24b1cd724a690f2",
              "IPY_MODEL_98cc2142d92d405b86aecd5e415e3302"
            ],
            "layout": "IPY_MODEL_1f39e050340648998b6b97cc10e18a44"
          }
        },
        "d1c1f6ab478848b1acafbcc3174ec88d": {
          "model_module": "@jupyter-widgets/controls",
          "model_name": "HTMLModel",
          "model_module_version": "1.5.0",
          "state": {
            "_dom_classes": [],
            "_model_module": "@jupyter-widgets/controls",
            "_model_module_version": "1.5.0",
            "_model_name": "HTMLModel",
            "_view_count": null,
            "_view_module": "@jupyter-widgets/controls",
            "_view_module_version": "1.5.0",
            "_view_name": "HTMLView",
            "description": "",
            "description_tooltip": null,
            "layout": "IPY_MODEL_ec7bb6eb71a2414db437e34f2b0e77f1",
            "placeholder": "​",
            "style": "IPY_MODEL_6b64e784f0bb43c09036685e8e38390b",
            "value": "special_tokens_map.json: 100%"
          }
        },
        "95ca2f9ece9746a8b24b1cd724a690f2": {
          "model_module": "@jupyter-widgets/controls",
          "model_name": "FloatProgressModel",
          "model_module_version": "1.5.0",
          "state": {
            "_dom_classes": [],
            "_model_module": "@jupyter-widgets/controls",
            "_model_module_version": "1.5.0",
            "_model_name": "FloatProgressModel",
            "_view_count": null,
            "_view_module": "@jupyter-widgets/controls",
            "_view_module_version": "1.5.0",
            "_view_name": "ProgressView",
            "bar_style": "success",
            "description": "",
            "description_tooltip": null,
            "layout": "IPY_MODEL_0ab79427518140178dc36aecb253c105",
            "max": 695,
            "min": 0,
            "orientation": "horizontal",
            "style": "IPY_MODEL_8e13c91d130840108dda3d5ec3def3fd",
            "value": 695
          }
        },
        "98cc2142d92d405b86aecd5e415e3302": {
          "model_module": "@jupyter-widgets/controls",
          "model_name": "HTMLModel",
          "model_module_version": "1.5.0",
          "state": {
            "_dom_classes": [],
            "_model_module": "@jupyter-widgets/controls",
            "_model_module_version": "1.5.0",
            "_model_name": "HTMLModel",
            "_view_count": null,
            "_view_module": "@jupyter-widgets/controls",
            "_view_module_version": "1.5.0",
            "_view_name": "HTMLView",
            "description": "",
            "description_tooltip": null,
            "layout": "IPY_MODEL_43f6c7f753354f86a9c658fe31ea76e4",
            "placeholder": "​",
            "style": "IPY_MODEL_741dbd724a244a148697ac4b6567704f",
            "value": " 695/695 [00:00&lt;00:00, 35.9kB/s]"
          }
        },
        "1f39e050340648998b6b97cc10e18a44": {
          "model_module": "@jupyter-widgets/base",
          "model_name": "LayoutModel",
          "model_module_version": "1.2.0",
          "state": {
            "_model_module": "@jupyter-widgets/base",
            "_model_module_version": "1.2.0",
            "_model_name": "LayoutModel",
            "_view_count": null,
            "_view_module": "@jupyter-widgets/base",
            "_view_module_version": "1.2.0",
            "_view_name": "LayoutView",
            "align_content": null,
            "align_items": null,
            "align_self": null,
            "border": null,
            "bottom": null,
            "display": null,
            "flex": null,
            "flex_flow": null,
            "grid_area": null,
            "grid_auto_columns": null,
            "grid_auto_flow": null,
            "grid_auto_rows": null,
            "grid_column": null,
            "grid_gap": null,
            "grid_row": null,
            "grid_template_areas": null,
            "grid_template_columns": null,
            "grid_template_rows": null,
            "height": null,
            "justify_content": null,
            "justify_items": null,
            "left": null,
            "margin": null,
            "max_height": null,
            "max_width": null,
            "min_height": null,
            "min_width": null,
            "object_fit": null,
            "object_position": null,
            "order": null,
            "overflow": null,
            "overflow_x": null,
            "overflow_y": null,
            "padding": null,
            "right": null,
            "top": null,
            "visibility": null,
            "width": null
          }
        },
        "ec7bb6eb71a2414db437e34f2b0e77f1": {
          "model_module": "@jupyter-widgets/base",
          "model_name": "LayoutModel",
          "model_module_version": "1.2.0",
          "state": {
            "_model_module": "@jupyter-widgets/base",
            "_model_module_version": "1.2.0",
            "_model_name": "LayoutModel",
            "_view_count": null,
            "_view_module": "@jupyter-widgets/base",
            "_view_module_version": "1.2.0",
            "_view_name": "LayoutView",
            "align_content": null,
            "align_items": null,
            "align_self": null,
            "border": null,
            "bottom": null,
            "display": null,
            "flex": null,
            "flex_flow": null,
            "grid_area": null,
            "grid_auto_columns": null,
            "grid_auto_flow": null,
            "grid_auto_rows": null,
            "grid_column": null,
            "grid_gap": null,
            "grid_row": null,
            "grid_template_areas": null,
            "grid_template_columns": null,
            "grid_template_rows": null,
            "height": null,
            "justify_content": null,
            "justify_items": null,
            "left": null,
            "margin": null,
            "max_height": null,
            "max_width": null,
            "min_height": null,
            "min_width": null,
            "object_fit": null,
            "object_position": null,
            "order": null,
            "overflow": null,
            "overflow_x": null,
            "overflow_y": null,
            "padding": null,
            "right": null,
            "top": null,
            "visibility": null,
            "width": null
          }
        },
        "6b64e784f0bb43c09036685e8e38390b": {
          "model_module": "@jupyter-widgets/controls",
          "model_name": "DescriptionStyleModel",
          "model_module_version": "1.5.0",
          "state": {
            "_model_module": "@jupyter-widgets/controls",
            "_model_module_version": "1.5.0",
            "_model_name": "DescriptionStyleModel",
            "_view_count": null,
            "_view_module": "@jupyter-widgets/base",
            "_view_module_version": "1.2.0",
            "_view_name": "StyleView",
            "description_width": ""
          }
        },
        "0ab79427518140178dc36aecb253c105": {
          "model_module": "@jupyter-widgets/base",
          "model_name": "LayoutModel",
          "model_module_version": "1.2.0",
          "state": {
            "_model_module": "@jupyter-widgets/base",
            "_model_module_version": "1.2.0",
            "_model_name": "LayoutModel",
            "_view_count": null,
            "_view_module": "@jupyter-widgets/base",
            "_view_module_version": "1.2.0",
            "_view_name": "LayoutView",
            "align_content": null,
            "align_items": null,
            "align_self": null,
            "border": null,
            "bottom": null,
            "display": null,
            "flex": null,
            "flex_flow": null,
            "grid_area": null,
            "grid_auto_columns": null,
            "grid_auto_flow": null,
            "grid_auto_rows": null,
            "grid_column": null,
            "grid_gap": null,
            "grid_row": null,
            "grid_template_areas": null,
            "grid_template_columns": null,
            "grid_template_rows": null,
            "height": null,
            "justify_content": null,
            "justify_items": null,
            "left": null,
            "margin": null,
            "max_height": null,
            "max_width": null,
            "min_height": null,
            "min_width": null,
            "object_fit": null,
            "object_position": null,
            "order": null,
            "overflow": null,
            "overflow_x": null,
            "overflow_y": null,
            "padding": null,
            "right": null,
            "top": null,
            "visibility": null,
            "width": null
          }
        },
        "8e13c91d130840108dda3d5ec3def3fd": {
          "model_module": "@jupyter-widgets/controls",
          "model_name": "ProgressStyleModel",
          "model_module_version": "1.5.0",
          "state": {
            "_model_module": "@jupyter-widgets/controls",
            "_model_module_version": "1.5.0",
            "_model_name": "ProgressStyleModel",
            "_view_count": null,
            "_view_module": "@jupyter-widgets/base",
            "_view_module_version": "1.2.0",
            "_view_name": "StyleView",
            "bar_color": null,
            "description_width": ""
          }
        },
        "43f6c7f753354f86a9c658fe31ea76e4": {
          "model_module": "@jupyter-widgets/base",
          "model_name": "LayoutModel",
          "model_module_version": "1.2.0",
          "state": {
            "_model_module": "@jupyter-widgets/base",
            "_model_module_version": "1.2.0",
            "_model_name": "LayoutModel",
            "_view_count": null,
            "_view_module": "@jupyter-widgets/base",
            "_view_module_version": "1.2.0",
            "_view_name": "LayoutView",
            "align_content": null,
            "align_items": null,
            "align_self": null,
            "border": null,
            "bottom": null,
            "display": null,
            "flex": null,
            "flex_flow": null,
            "grid_area": null,
            "grid_auto_columns": null,
            "grid_auto_flow": null,
            "grid_auto_rows": null,
            "grid_column": null,
            "grid_gap": null,
            "grid_row": null,
            "grid_template_areas": null,
            "grid_template_columns": null,
            "grid_template_rows": null,
            "height": null,
            "justify_content": null,
            "justify_items": null,
            "left": null,
            "margin": null,
            "max_height": null,
            "max_width": null,
            "min_height": null,
            "min_width": null,
            "object_fit": null,
            "object_position": null,
            "order": null,
            "overflow": null,
            "overflow_x": null,
            "overflow_y": null,
            "padding": null,
            "right": null,
            "top": null,
            "visibility": null,
            "width": null
          }
        },
        "741dbd724a244a148697ac4b6567704f": {
          "model_module": "@jupyter-widgets/controls",
          "model_name": "DescriptionStyleModel",
          "model_module_version": "1.5.0",
          "state": {
            "_model_module": "@jupyter-widgets/controls",
            "_model_module_version": "1.5.0",
            "_model_name": "DescriptionStyleModel",
            "_view_count": null,
            "_view_module": "@jupyter-widgets/base",
            "_view_module_version": "1.2.0",
            "_view_name": "StyleView",
            "description_width": ""
          }
        },
        "2636c756f00845649641ab6df56c8fe6": {
          "model_module": "@jupyter-widgets/controls",
          "model_name": "HBoxModel",
          "model_module_version": "1.5.0",
          "state": {
            "_dom_classes": [],
            "_model_module": "@jupyter-widgets/controls",
            "_model_module_version": "1.5.0",
            "_model_name": "HBoxModel",
            "_view_count": null,
            "_view_module": "@jupyter-widgets/controls",
            "_view_module_version": "1.5.0",
            "_view_name": "HBoxView",
            "box_style": "",
            "children": [
              "IPY_MODEL_2084b69889554cf0beff03ded6da9f1f",
              "IPY_MODEL_c527c0eba3764d099398a0ebb79e1322",
              "IPY_MODEL_0c707f28f79a478cb125c420034a4f6f"
            ],
            "layout": "IPY_MODEL_2a8a56576e5343fea49cf8193e9db1cb"
          }
        },
        "2084b69889554cf0beff03ded6da9f1f": {
          "model_module": "@jupyter-widgets/controls",
          "model_name": "HTMLModel",
          "model_module_version": "1.5.0",
          "state": {
            "_dom_classes": [],
            "_model_module": "@jupyter-widgets/controls",
            "_model_module_version": "1.5.0",
            "_model_name": "HTMLModel",
            "_view_count": null,
            "_view_module": "@jupyter-widgets/controls",
            "_view_module_version": "1.5.0",
            "_view_name": "HTMLView",
            "description": "",
            "description_tooltip": null,
            "layout": "IPY_MODEL_6ee697b04c264c67adadacad8334c0fa",
            "placeholder": "​",
            "style": "IPY_MODEL_553c40ac530640338d0fc985442c1328",
            "value": "config.json: 100%"
          }
        },
        "c527c0eba3764d099398a0ebb79e1322": {
          "model_module": "@jupyter-widgets/controls",
          "model_name": "FloatProgressModel",
          "model_module_version": "1.5.0",
          "state": {
            "_dom_classes": [],
            "_model_module": "@jupyter-widgets/controls",
            "_model_module_version": "1.5.0",
            "_model_name": "FloatProgressModel",
            "_view_count": null,
            "_view_module": "@jupyter-widgets/controls",
            "_view_module_version": "1.5.0",
            "_view_name": "ProgressView",
            "bar_style": "success",
            "description": "",
            "description_tooltip": null,
            "layout": "IPY_MODEL_7a3653376a6944e286447c739bb974fc",
            "max": 2064,
            "min": 0,
            "orientation": "horizontal",
            "style": "IPY_MODEL_d059b1f113f84a568b9e866bdcc0c73c",
            "value": 2064
          }
        },
        "0c707f28f79a478cb125c420034a4f6f": {
          "model_module": "@jupyter-widgets/controls",
          "model_name": "HTMLModel",
          "model_module_version": "1.5.0",
          "state": {
            "_dom_classes": [],
            "_model_module": "@jupyter-widgets/controls",
            "_model_module_version": "1.5.0",
            "_model_name": "HTMLModel",
            "_view_count": null,
            "_view_module": "@jupyter-widgets/controls",
            "_view_module_version": "1.5.0",
            "_view_name": "HTMLView",
            "description": "",
            "description_tooltip": null,
            "layout": "IPY_MODEL_95315b9a997b4d11b41965db76666136",
            "placeholder": "​",
            "style": "IPY_MODEL_b78e12c9edc7482c8311052a891d1f26",
            "value": " 2.06k/2.06k [00:00&lt;00:00, 109kB/s]"
          }
        },
        "2a8a56576e5343fea49cf8193e9db1cb": {
          "model_module": "@jupyter-widgets/base",
          "model_name": "LayoutModel",
          "model_module_version": "1.2.0",
          "state": {
            "_model_module": "@jupyter-widgets/base",
            "_model_module_version": "1.2.0",
            "_model_name": "LayoutModel",
            "_view_count": null,
            "_view_module": "@jupyter-widgets/base",
            "_view_module_version": "1.2.0",
            "_view_name": "LayoutView",
            "align_content": null,
            "align_items": null,
            "align_self": null,
            "border": null,
            "bottom": null,
            "display": null,
            "flex": null,
            "flex_flow": null,
            "grid_area": null,
            "grid_auto_columns": null,
            "grid_auto_flow": null,
            "grid_auto_rows": null,
            "grid_column": null,
            "grid_gap": null,
            "grid_row": null,
            "grid_template_areas": null,
            "grid_template_columns": null,
            "grid_template_rows": null,
            "height": null,
            "justify_content": null,
            "justify_items": null,
            "left": null,
            "margin": null,
            "max_height": null,
            "max_width": null,
            "min_height": null,
            "min_width": null,
            "object_fit": null,
            "object_position": null,
            "order": null,
            "overflow": null,
            "overflow_x": null,
            "overflow_y": null,
            "padding": null,
            "right": null,
            "top": null,
            "visibility": null,
            "width": null
          }
        },
        "6ee697b04c264c67adadacad8334c0fa": {
          "model_module": "@jupyter-widgets/base",
          "model_name": "LayoutModel",
          "model_module_version": "1.2.0",
          "state": {
            "_model_module": "@jupyter-widgets/base",
            "_model_module_version": "1.2.0",
            "_model_name": "LayoutModel",
            "_view_count": null,
            "_view_module": "@jupyter-widgets/base",
            "_view_module_version": "1.2.0",
            "_view_name": "LayoutView",
            "align_content": null,
            "align_items": null,
            "align_self": null,
            "border": null,
            "bottom": null,
            "display": null,
            "flex": null,
            "flex_flow": null,
            "grid_area": null,
            "grid_auto_columns": null,
            "grid_auto_flow": null,
            "grid_auto_rows": null,
            "grid_column": null,
            "grid_gap": null,
            "grid_row": null,
            "grid_template_areas": null,
            "grid_template_columns": null,
            "grid_template_rows": null,
            "height": null,
            "justify_content": null,
            "justify_items": null,
            "left": null,
            "margin": null,
            "max_height": null,
            "max_width": null,
            "min_height": null,
            "min_width": null,
            "object_fit": null,
            "object_position": null,
            "order": null,
            "overflow": null,
            "overflow_x": null,
            "overflow_y": null,
            "padding": null,
            "right": null,
            "top": null,
            "visibility": null,
            "width": null
          }
        },
        "553c40ac530640338d0fc985442c1328": {
          "model_module": "@jupyter-widgets/controls",
          "model_name": "DescriptionStyleModel",
          "model_module_version": "1.5.0",
          "state": {
            "_model_module": "@jupyter-widgets/controls",
            "_model_module_version": "1.5.0",
            "_model_name": "DescriptionStyleModel",
            "_view_count": null,
            "_view_module": "@jupyter-widgets/base",
            "_view_module_version": "1.2.0",
            "_view_name": "StyleView",
            "description_width": ""
          }
        },
        "7a3653376a6944e286447c739bb974fc": {
          "model_module": "@jupyter-widgets/base",
          "model_name": "LayoutModel",
          "model_module_version": "1.2.0",
          "state": {
            "_model_module": "@jupyter-widgets/base",
            "_model_module_version": "1.2.0",
            "_model_name": "LayoutModel",
            "_view_count": null,
            "_view_module": "@jupyter-widgets/base",
            "_view_module_version": "1.2.0",
            "_view_name": "LayoutView",
            "align_content": null,
            "align_items": null,
            "align_self": null,
            "border": null,
            "bottom": null,
            "display": null,
            "flex": null,
            "flex_flow": null,
            "grid_area": null,
            "grid_auto_columns": null,
            "grid_auto_flow": null,
            "grid_auto_rows": null,
            "grid_column": null,
            "grid_gap": null,
            "grid_row": null,
            "grid_template_areas": null,
            "grid_template_columns": null,
            "grid_template_rows": null,
            "height": null,
            "justify_content": null,
            "justify_items": null,
            "left": null,
            "margin": null,
            "max_height": null,
            "max_width": null,
            "min_height": null,
            "min_width": null,
            "object_fit": null,
            "object_position": null,
            "order": null,
            "overflow": null,
            "overflow_x": null,
            "overflow_y": null,
            "padding": null,
            "right": null,
            "top": null,
            "visibility": null,
            "width": null
          }
        },
        "d059b1f113f84a568b9e866bdcc0c73c": {
          "model_module": "@jupyter-widgets/controls",
          "model_name": "ProgressStyleModel",
          "model_module_version": "1.5.0",
          "state": {
            "_model_module": "@jupyter-widgets/controls",
            "_model_module_version": "1.5.0",
            "_model_name": "ProgressStyleModel",
            "_view_count": null,
            "_view_module": "@jupyter-widgets/base",
            "_view_module_version": "1.2.0",
            "_view_name": "StyleView",
            "bar_color": null,
            "description_width": ""
          }
        },
        "95315b9a997b4d11b41965db76666136": {
          "model_module": "@jupyter-widgets/base",
          "model_name": "LayoutModel",
          "model_module_version": "1.2.0",
          "state": {
            "_model_module": "@jupyter-widgets/base",
            "_model_module_version": "1.2.0",
            "_model_name": "LayoutModel",
            "_view_count": null,
            "_view_module": "@jupyter-widgets/base",
            "_view_module_version": "1.2.0",
            "_view_name": "LayoutView",
            "align_content": null,
            "align_items": null,
            "align_self": null,
            "border": null,
            "bottom": null,
            "display": null,
            "flex": null,
            "flex_flow": null,
            "grid_area": null,
            "grid_auto_columns": null,
            "grid_auto_flow": null,
            "grid_auto_rows": null,
            "grid_column": null,
            "grid_gap": null,
            "grid_row": null,
            "grid_template_areas": null,
            "grid_template_columns": null,
            "grid_template_rows": null,
            "height": null,
            "justify_content": null,
            "justify_items": null,
            "left": null,
            "margin": null,
            "max_height": null,
            "max_width": null,
            "min_height": null,
            "min_width": null,
            "object_fit": null,
            "object_position": null,
            "order": null,
            "overflow": null,
            "overflow_x": null,
            "overflow_y": null,
            "padding": null,
            "right": null,
            "top": null,
            "visibility": null,
            "width": null
          }
        },
        "b78e12c9edc7482c8311052a891d1f26": {
          "model_module": "@jupyter-widgets/controls",
          "model_name": "DescriptionStyleModel",
          "model_module_version": "1.5.0",
          "state": {
            "_model_module": "@jupyter-widgets/controls",
            "_model_module_version": "1.5.0",
            "_model_name": "DescriptionStyleModel",
            "_view_count": null,
            "_view_module": "@jupyter-widgets/base",
            "_view_module_version": "1.2.0",
            "_view_name": "StyleView",
            "description_width": ""
          }
        },
        "c2f711117dda4eaf999510d7165f4ace": {
          "model_module": "@jupyter-widgets/controls",
          "model_name": "HBoxModel",
          "model_module_version": "1.5.0",
          "state": {
            "_dom_classes": [],
            "_model_module": "@jupyter-widgets/controls",
            "_model_module_version": "1.5.0",
            "_model_name": "HBoxModel",
            "_view_count": null,
            "_view_module": "@jupyter-widgets/controls",
            "_view_module_version": "1.5.0",
            "_view_name": "HBoxView",
            "box_style": "",
            "children": [
              "IPY_MODEL_9664ba27ea6b437c8e46b047d51ee59b",
              "IPY_MODEL_5b57058f90ca4194893a44b3dd633661",
              "IPY_MODEL_0e699bbceba84a738437529fd70ea276"
            ],
            "layout": "IPY_MODEL_2808c42b23564125885fa9c0033a478e"
          }
        },
        "9664ba27ea6b437c8e46b047d51ee59b": {
          "model_module": "@jupyter-widgets/controls",
          "model_name": "HTMLModel",
          "model_module_version": "1.5.0",
          "state": {
            "_dom_classes": [],
            "_model_module": "@jupyter-widgets/controls",
            "_model_module_version": "1.5.0",
            "_model_name": "HTMLModel",
            "_view_count": null,
            "_view_module": "@jupyter-widgets/controls",
            "_view_module_version": "1.5.0",
            "_view_name": "HTMLView",
            "description": "",
            "description_tooltip": null,
            "layout": "IPY_MODEL_e9b9089018f54ff0913e37e3e61bcca6",
            "placeholder": "​",
            "style": "IPY_MODEL_8021a35b997647c0be88b9641834c7f7",
            "value": "configuration_hf_nomic_bert.py: 100%"
          }
        },
        "5b57058f90ca4194893a44b3dd633661": {
          "model_module": "@jupyter-widgets/controls",
          "model_name": "FloatProgressModel",
          "model_module_version": "1.5.0",
          "state": {
            "_dom_classes": [],
            "_model_module": "@jupyter-widgets/controls",
            "_model_module_version": "1.5.0",
            "_model_name": "FloatProgressModel",
            "_view_count": null,
            "_view_module": "@jupyter-widgets/controls",
            "_view_module_version": "1.5.0",
            "_view_name": "ProgressView",
            "bar_style": "success",
            "description": "",
            "description_tooltip": null,
            "layout": "IPY_MODEL_45a1f1ceb6bc4ec8af4d6131bb0b3109",
            "max": 1958,
            "min": 0,
            "orientation": "horizontal",
            "style": "IPY_MODEL_2c657d1747354b329c19aadf936c3f04",
            "value": 1958
          }
        },
        "0e699bbceba84a738437529fd70ea276": {
          "model_module": "@jupyter-widgets/controls",
          "model_name": "HTMLModel",
          "model_module_version": "1.5.0",
          "state": {
            "_dom_classes": [],
            "_model_module": "@jupyter-widgets/controls",
            "_model_module_version": "1.5.0",
            "_model_name": "HTMLModel",
            "_view_count": null,
            "_view_module": "@jupyter-widgets/controls",
            "_view_module_version": "1.5.0",
            "_view_name": "HTMLView",
            "description": "",
            "description_tooltip": null,
            "layout": "IPY_MODEL_cb4faa924fdf4a5a98cae5af62a6ef5a",
            "placeholder": "​",
            "style": "IPY_MODEL_f6afc1a391de415dbb395c1a0f1d3153",
            "value": " 1.96k/1.96k [00:00&lt;00:00, 86.4kB/s]"
          }
        },
        "2808c42b23564125885fa9c0033a478e": {
          "model_module": "@jupyter-widgets/base",
          "model_name": "LayoutModel",
          "model_module_version": "1.2.0",
          "state": {
            "_model_module": "@jupyter-widgets/base",
            "_model_module_version": "1.2.0",
            "_model_name": "LayoutModel",
            "_view_count": null,
            "_view_module": "@jupyter-widgets/base",
            "_view_module_version": "1.2.0",
            "_view_name": "LayoutView",
            "align_content": null,
            "align_items": null,
            "align_self": null,
            "border": null,
            "bottom": null,
            "display": null,
            "flex": null,
            "flex_flow": null,
            "grid_area": null,
            "grid_auto_columns": null,
            "grid_auto_flow": null,
            "grid_auto_rows": null,
            "grid_column": null,
            "grid_gap": null,
            "grid_row": null,
            "grid_template_areas": null,
            "grid_template_columns": null,
            "grid_template_rows": null,
            "height": null,
            "justify_content": null,
            "justify_items": null,
            "left": null,
            "margin": null,
            "max_height": null,
            "max_width": null,
            "min_height": null,
            "min_width": null,
            "object_fit": null,
            "object_position": null,
            "order": null,
            "overflow": null,
            "overflow_x": null,
            "overflow_y": null,
            "padding": null,
            "right": null,
            "top": null,
            "visibility": null,
            "width": null
          }
        },
        "e9b9089018f54ff0913e37e3e61bcca6": {
          "model_module": "@jupyter-widgets/base",
          "model_name": "LayoutModel",
          "model_module_version": "1.2.0",
          "state": {
            "_model_module": "@jupyter-widgets/base",
            "_model_module_version": "1.2.0",
            "_model_name": "LayoutModel",
            "_view_count": null,
            "_view_module": "@jupyter-widgets/base",
            "_view_module_version": "1.2.0",
            "_view_name": "LayoutView",
            "align_content": null,
            "align_items": null,
            "align_self": null,
            "border": null,
            "bottom": null,
            "display": null,
            "flex": null,
            "flex_flow": null,
            "grid_area": null,
            "grid_auto_columns": null,
            "grid_auto_flow": null,
            "grid_auto_rows": null,
            "grid_column": null,
            "grid_gap": null,
            "grid_row": null,
            "grid_template_areas": null,
            "grid_template_columns": null,
            "grid_template_rows": null,
            "height": null,
            "justify_content": null,
            "justify_items": null,
            "left": null,
            "margin": null,
            "max_height": null,
            "max_width": null,
            "min_height": null,
            "min_width": null,
            "object_fit": null,
            "object_position": null,
            "order": null,
            "overflow": null,
            "overflow_x": null,
            "overflow_y": null,
            "padding": null,
            "right": null,
            "top": null,
            "visibility": null,
            "width": null
          }
        },
        "8021a35b997647c0be88b9641834c7f7": {
          "model_module": "@jupyter-widgets/controls",
          "model_name": "DescriptionStyleModel",
          "model_module_version": "1.5.0",
          "state": {
            "_model_module": "@jupyter-widgets/controls",
            "_model_module_version": "1.5.0",
            "_model_name": "DescriptionStyleModel",
            "_view_count": null,
            "_view_module": "@jupyter-widgets/base",
            "_view_module_version": "1.2.0",
            "_view_name": "StyleView",
            "description_width": ""
          }
        },
        "45a1f1ceb6bc4ec8af4d6131bb0b3109": {
          "model_module": "@jupyter-widgets/base",
          "model_name": "LayoutModel",
          "model_module_version": "1.2.0",
          "state": {
            "_model_module": "@jupyter-widgets/base",
            "_model_module_version": "1.2.0",
            "_model_name": "LayoutModel",
            "_view_count": null,
            "_view_module": "@jupyter-widgets/base",
            "_view_module_version": "1.2.0",
            "_view_name": "LayoutView",
            "align_content": null,
            "align_items": null,
            "align_self": null,
            "border": null,
            "bottom": null,
            "display": null,
            "flex": null,
            "flex_flow": null,
            "grid_area": null,
            "grid_auto_columns": null,
            "grid_auto_flow": null,
            "grid_auto_rows": null,
            "grid_column": null,
            "grid_gap": null,
            "grid_row": null,
            "grid_template_areas": null,
            "grid_template_columns": null,
            "grid_template_rows": null,
            "height": null,
            "justify_content": null,
            "justify_items": null,
            "left": null,
            "margin": null,
            "max_height": null,
            "max_width": null,
            "min_height": null,
            "min_width": null,
            "object_fit": null,
            "object_position": null,
            "order": null,
            "overflow": null,
            "overflow_x": null,
            "overflow_y": null,
            "padding": null,
            "right": null,
            "top": null,
            "visibility": null,
            "width": null
          }
        },
        "2c657d1747354b329c19aadf936c3f04": {
          "model_module": "@jupyter-widgets/controls",
          "model_name": "ProgressStyleModel",
          "model_module_version": "1.5.0",
          "state": {
            "_model_module": "@jupyter-widgets/controls",
            "_model_module_version": "1.5.0",
            "_model_name": "ProgressStyleModel",
            "_view_count": null,
            "_view_module": "@jupyter-widgets/base",
            "_view_module_version": "1.2.0",
            "_view_name": "StyleView",
            "bar_color": null,
            "description_width": ""
          }
        },
        "cb4faa924fdf4a5a98cae5af62a6ef5a": {
          "model_module": "@jupyter-widgets/base",
          "model_name": "LayoutModel",
          "model_module_version": "1.2.0",
          "state": {
            "_model_module": "@jupyter-widgets/base",
            "_model_module_version": "1.2.0",
            "_model_name": "LayoutModel",
            "_view_count": null,
            "_view_module": "@jupyter-widgets/base",
            "_view_module_version": "1.2.0",
            "_view_name": "LayoutView",
            "align_content": null,
            "align_items": null,
            "align_self": null,
            "border": null,
            "bottom": null,
            "display": null,
            "flex": null,
            "flex_flow": null,
            "grid_area": null,
            "grid_auto_columns": null,
            "grid_auto_flow": null,
            "grid_auto_rows": null,
            "grid_column": null,
            "grid_gap": null,
            "grid_row": null,
            "grid_template_areas": null,
            "grid_template_columns": null,
            "grid_template_rows": null,
            "height": null,
            "justify_content": null,
            "justify_items": null,
            "left": null,
            "margin": null,
            "max_height": null,
            "max_width": null,
            "min_height": null,
            "min_width": null,
            "object_fit": null,
            "object_position": null,
            "order": null,
            "overflow": null,
            "overflow_x": null,
            "overflow_y": null,
            "padding": null,
            "right": null,
            "top": null,
            "visibility": null,
            "width": null
          }
        },
        "f6afc1a391de415dbb395c1a0f1d3153": {
          "model_module": "@jupyter-widgets/controls",
          "model_name": "DescriptionStyleModel",
          "model_module_version": "1.5.0",
          "state": {
            "_model_module": "@jupyter-widgets/controls",
            "_model_module_version": "1.5.0",
            "_model_name": "DescriptionStyleModel",
            "_view_count": null,
            "_view_module": "@jupyter-widgets/base",
            "_view_module_version": "1.2.0",
            "_view_name": "StyleView",
            "description_width": ""
          }
        },
        "318c4ef1a0ed4afcacb66a46827a1845": {
          "model_module": "@jupyter-widgets/controls",
          "model_name": "HBoxModel",
          "model_module_version": "1.5.0",
          "state": {
            "_dom_classes": [],
            "_model_module": "@jupyter-widgets/controls",
            "_model_module_version": "1.5.0",
            "_model_name": "HBoxModel",
            "_view_count": null,
            "_view_module": "@jupyter-widgets/controls",
            "_view_module_version": "1.5.0",
            "_view_name": "HBoxView",
            "box_style": "",
            "children": [
              "IPY_MODEL_287c70cfd3dc4a48a9c53b0a7157ebff",
              "IPY_MODEL_54c8ca21caf143de869916cf7bd00229",
              "IPY_MODEL_18524a87118d483a8c61f06762f3c89c"
            ],
            "layout": "IPY_MODEL_78f4e984ca124d43bd7caef830444500"
          }
        },
        "287c70cfd3dc4a48a9c53b0a7157ebff": {
          "model_module": "@jupyter-widgets/controls",
          "model_name": "HTMLModel",
          "model_module_version": "1.5.0",
          "state": {
            "_dom_classes": [],
            "_model_module": "@jupyter-widgets/controls",
            "_model_module_version": "1.5.0",
            "_model_name": "HTMLModel",
            "_view_count": null,
            "_view_module": "@jupyter-widgets/controls",
            "_view_module_version": "1.5.0",
            "_view_name": "HTMLView",
            "description": "",
            "description_tooltip": null,
            "layout": "IPY_MODEL_8f2fcc41788543c2b6b9f85004e9ba4b",
            "placeholder": "​",
            "style": "IPY_MODEL_0020f47806014eecb7836f259669a042",
            "value": "modeling_hf_nomic_bert.py: 100%"
          }
        },
        "54c8ca21caf143de869916cf7bd00229": {
          "model_module": "@jupyter-widgets/controls",
          "model_name": "FloatProgressModel",
          "model_module_version": "1.5.0",
          "state": {
            "_dom_classes": [],
            "_model_module": "@jupyter-widgets/controls",
            "_model_module_version": "1.5.0",
            "_model_name": "FloatProgressModel",
            "_view_count": null,
            "_view_module": "@jupyter-widgets/controls",
            "_view_module_version": "1.5.0",
            "_view_name": "ProgressView",
            "bar_style": "success",
            "description": "",
            "description_tooltip": null,
            "layout": "IPY_MODEL_2e10a9862b0a478aaf09d6ea565865b4",
            "max": 103563,
            "min": 0,
            "orientation": "horizontal",
            "style": "IPY_MODEL_457553e887c447e583371ab70853971e",
            "value": 103563
          }
        },
        "18524a87118d483a8c61f06762f3c89c": {
          "model_module": "@jupyter-widgets/controls",
          "model_name": "HTMLModel",
          "model_module_version": "1.5.0",
          "state": {
            "_dom_classes": [],
            "_model_module": "@jupyter-widgets/controls",
            "_model_module_version": "1.5.0",
            "_model_name": "HTMLModel",
            "_view_count": null,
            "_view_module": "@jupyter-widgets/controls",
            "_view_module_version": "1.5.0",
            "_view_name": "HTMLView",
            "description": "",
            "description_tooltip": null,
            "layout": "IPY_MODEL_739c927ab46b47c0af075ed12dcde1f1",
            "placeholder": "​",
            "style": "IPY_MODEL_c14d3fbf35f64d1b939e0189b1c0f371",
            "value": " 104k/104k [00:00&lt;00:00, 1.99MB/s]"
          }
        },
        "78f4e984ca124d43bd7caef830444500": {
          "model_module": "@jupyter-widgets/base",
          "model_name": "LayoutModel",
          "model_module_version": "1.2.0",
          "state": {
            "_model_module": "@jupyter-widgets/base",
            "_model_module_version": "1.2.0",
            "_model_name": "LayoutModel",
            "_view_count": null,
            "_view_module": "@jupyter-widgets/base",
            "_view_module_version": "1.2.0",
            "_view_name": "LayoutView",
            "align_content": null,
            "align_items": null,
            "align_self": null,
            "border": null,
            "bottom": null,
            "display": null,
            "flex": null,
            "flex_flow": null,
            "grid_area": null,
            "grid_auto_columns": null,
            "grid_auto_flow": null,
            "grid_auto_rows": null,
            "grid_column": null,
            "grid_gap": null,
            "grid_row": null,
            "grid_template_areas": null,
            "grid_template_columns": null,
            "grid_template_rows": null,
            "height": null,
            "justify_content": null,
            "justify_items": null,
            "left": null,
            "margin": null,
            "max_height": null,
            "max_width": null,
            "min_height": null,
            "min_width": null,
            "object_fit": null,
            "object_position": null,
            "order": null,
            "overflow": null,
            "overflow_x": null,
            "overflow_y": null,
            "padding": null,
            "right": null,
            "top": null,
            "visibility": null,
            "width": null
          }
        },
        "8f2fcc41788543c2b6b9f85004e9ba4b": {
          "model_module": "@jupyter-widgets/base",
          "model_name": "LayoutModel",
          "model_module_version": "1.2.0",
          "state": {
            "_model_module": "@jupyter-widgets/base",
            "_model_module_version": "1.2.0",
            "_model_name": "LayoutModel",
            "_view_count": null,
            "_view_module": "@jupyter-widgets/base",
            "_view_module_version": "1.2.0",
            "_view_name": "LayoutView",
            "align_content": null,
            "align_items": null,
            "align_self": null,
            "border": null,
            "bottom": null,
            "display": null,
            "flex": null,
            "flex_flow": null,
            "grid_area": null,
            "grid_auto_columns": null,
            "grid_auto_flow": null,
            "grid_auto_rows": null,
            "grid_column": null,
            "grid_gap": null,
            "grid_row": null,
            "grid_template_areas": null,
            "grid_template_columns": null,
            "grid_template_rows": null,
            "height": null,
            "justify_content": null,
            "justify_items": null,
            "left": null,
            "margin": null,
            "max_height": null,
            "max_width": null,
            "min_height": null,
            "min_width": null,
            "object_fit": null,
            "object_position": null,
            "order": null,
            "overflow": null,
            "overflow_x": null,
            "overflow_y": null,
            "padding": null,
            "right": null,
            "top": null,
            "visibility": null,
            "width": null
          }
        },
        "0020f47806014eecb7836f259669a042": {
          "model_module": "@jupyter-widgets/controls",
          "model_name": "DescriptionStyleModel",
          "model_module_version": "1.5.0",
          "state": {
            "_model_module": "@jupyter-widgets/controls",
            "_model_module_version": "1.5.0",
            "_model_name": "DescriptionStyleModel",
            "_view_count": null,
            "_view_module": "@jupyter-widgets/base",
            "_view_module_version": "1.2.0",
            "_view_name": "StyleView",
            "description_width": ""
          }
        },
        "2e10a9862b0a478aaf09d6ea565865b4": {
          "model_module": "@jupyter-widgets/base",
          "model_name": "LayoutModel",
          "model_module_version": "1.2.0",
          "state": {
            "_model_module": "@jupyter-widgets/base",
            "_model_module_version": "1.2.0",
            "_model_name": "LayoutModel",
            "_view_count": null,
            "_view_module": "@jupyter-widgets/base",
            "_view_module_version": "1.2.0",
            "_view_name": "LayoutView",
            "align_content": null,
            "align_items": null,
            "align_self": null,
            "border": null,
            "bottom": null,
            "display": null,
            "flex": null,
            "flex_flow": null,
            "grid_area": null,
            "grid_auto_columns": null,
            "grid_auto_flow": null,
            "grid_auto_rows": null,
            "grid_column": null,
            "grid_gap": null,
            "grid_row": null,
            "grid_template_areas": null,
            "grid_template_columns": null,
            "grid_template_rows": null,
            "height": null,
            "justify_content": null,
            "justify_items": null,
            "left": null,
            "margin": null,
            "max_height": null,
            "max_width": null,
            "min_height": null,
            "min_width": null,
            "object_fit": null,
            "object_position": null,
            "order": null,
            "overflow": null,
            "overflow_x": null,
            "overflow_y": null,
            "padding": null,
            "right": null,
            "top": null,
            "visibility": null,
            "width": null
          }
        },
        "457553e887c447e583371ab70853971e": {
          "model_module": "@jupyter-widgets/controls",
          "model_name": "ProgressStyleModel",
          "model_module_version": "1.5.0",
          "state": {
            "_model_module": "@jupyter-widgets/controls",
            "_model_module_version": "1.5.0",
            "_model_name": "ProgressStyleModel",
            "_view_count": null,
            "_view_module": "@jupyter-widgets/base",
            "_view_module_version": "1.2.0",
            "_view_name": "StyleView",
            "bar_color": null,
            "description_width": ""
          }
        },
        "739c927ab46b47c0af075ed12dcde1f1": {
          "model_module": "@jupyter-widgets/base",
          "model_name": "LayoutModel",
          "model_module_version": "1.2.0",
          "state": {
            "_model_module": "@jupyter-widgets/base",
            "_model_module_version": "1.2.0",
            "_model_name": "LayoutModel",
            "_view_count": null,
            "_view_module": "@jupyter-widgets/base",
            "_view_module_version": "1.2.0",
            "_view_name": "LayoutView",
            "align_content": null,
            "align_items": null,
            "align_self": null,
            "border": null,
            "bottom": null,
            "display": null,
            "flex": null,
            "flex_flow": null,
            "grid_area": null,
            "grid_auto_columns": null,
            "grid_auto_flow": null,
            "grid_auto_rows": null,
            "grid_column": null,
            "grid_gap": null,
            "grid_row": null,
            "grid_template_areas": null,
            "grid_template_columns": null,
            "grid_template_rows": null,
            "height": null,
            "justify_content": null,
            "justify_items": null,
            "left": null,
            "margin": null,
            "max_height": null,
            "max_width": null,
            "min_height": null,
            "min_width": null,
            "object_fit": null,
            "object_position": null,
            "order": null,
            "overflow": null,
            "overflow_x": null,
            "overflow_y": null,
            "padding": null,
            "right": null,
            "top": null,
            "visibility": null,
            "width": null
          }
        },
        "c14d3fbf35f64d1b939e0189b1c0f371": {
          "model_module": "@jupyter-widgets/controls",
          "model_name": "DescriptionStyleModel",
          "model_module_version": "1.5.0",
          "state": {
            "_model_module": "@jupyter-widgets/controls",
            "_model_module_version": "1.5.0",
            "_model_name": "DescriptionStyleModel",
            "_view_count": null,
            "_view_module": "@jupyter-widgets/base",
            "_view_module_version": "1.2.0",
            "_view_name": "StyleView",
            "description_width": ""
          }
        },
        "a2faad86f1614b3ea7b9eb3739c0cf3d": {
          "model_module": "@jupyter-widgets/controls",
          "model_name": "HBoxModel",
          "model_module_version": "1.5.0",
          "state": {
            "_dom_classes": [],
            "_model_module": "@jupyter-widgets/controls",
            "_model_module_version": "1.5.0",
            "_model_name": "HBoxModel",
            "_view_count": null,
            "_view_module": "@jupyter-widgets/controls",
            "_view_module_version": "1.5.0",
            "_view_name": "HBoxView",
            "box_style": "",
            "children": [
              "IPY_MODEL_f4f8ba4de1a343059866f7ebd63af254",
              "IPY_MODEL_a735f8706af742109790d36071b6428f",
              "IPY_MODEL_a5873012a4874be3af7d8e50b6177d41"
            ],
            "layout": "IPY_MODEL_14e6c28ff48d4d2e9af07fd6e395ff8d"
          }
        },
        "f4f8ba4de1a343059866f7ebd63af254": {
          "model_module": "@jupyter-widgets/controls",
          "model_name": "HTMLModel",
          "model_module_version": "1.5.0",
          "state": {
            "_dom_classes": [],
            "_model_module": "@jupyter-widgets/controls",
            "_model_module_version": "1.5.0",
            "_model_name": "HTMLModel",
            "_view_count": null,
            "_view_module": "@jupyter-widgets/controls",
            "_view_module_version": "1.5.0",
            "_view_name": "HTMLView",
            "description": "",
            "description_tooltip": null,
            "layout": "IPY_MODEL_4a5d83c1787f480fb782d7f4d1fba9f8",
            "placeholder": "​",
            "style": "IPY_MODEL_1a4114d6ca78403b94fc2b452f051195",
            "value": "model.safetensors: 100%"
          }
        },
        "a735f8706af742109790d36071b6428f": {
          "model_module": "@jupyter-widgets/controls",
          "model_name": "FloatProgressModel",
          "model_module_version": "1.5.0",
          "state": {
            "_dom_classes": [],
            "_model_module": "@jupyter-widgets/controls",
            "_model_module_version": "1.5.0",
            "_model_name": "FloatProgressModel",
            "_view_count": null,
            "_view_module": "@jupyter-widgets/controls",
            "_view_module_version": "1.5.0",
            "_view_name": "ProgressView",
            "bar_style": "success",
            "description": "",
            "description_tooltip": null,
            "layout": "IPY_MODEL_89f2b0b6af3b451a8cc5b8427386636f",
            "max": 546938168,
            "min": 0,
            "orientation": "horizontal",
            "style": "IPY_MODEL_ff48c76fbfc24a77a04f208cdedf99cb",
            "value": 546938168
          }
        },
        "a5873012a4874be3af7d8e50b6177d41": {
          "model_module": "@jupyter-widgets/controls",
          "model_name": "HTMLModel",
          "model_module_version": "1.5.0",
          "state": {
            "_dom_classes": [],
            "_model_module": "@jupyter-widgets/controls",
            "_model_module_version": "1.5.0",
            "_model_name": "HTMLModel",
            "_view_count": null,
            "_view_module": "@jupyter-widgets/controls",
            "_view_module_version": "1.5.0",
            "_view_name": "HTMLView",
            "description": "",
            "description_tooltip": null,
            "layout": "IPY_MODEL_2e4f469986ac4b2c93083b351b1ec4bd",
            "placeholder": "​",
            "style": "IPY_MODEL_6eebf06255f74aa99dab9b0282a6c302",
            "value": " 547M/547M [00:05&lt;00:00, 59.3MB/s]"
          }
        },
        "14e6c28ff48d4d2e9af07fd6e395ff8d": {
          "model_module": "@jupyter-widgets/base",
          "model_name": "LayoutModel",
          "model_module_version": "1.2.0",
          "state": {
            "_model_module": "@jupyter-widgets/base",
            "_model_module_version": "1.2.0",
            "_model_name": "LayoutModel",
            "_view_count": null,
            "_view_module": "@jupyter-widgets/base",
            "_view_module_version": "1.2.0",
            "_view_name": "LayoutView",
            "align_content": null,
            "align_items": null,
            "align_self": null,
            "border": null,
            "bottom": null,
            "display": null,
            "flex": null,
            "flex_flow": null,
            "grid_area": null,
            "grid_auto_columns": null,
            "grid_auto_flow": null,
            "grid_auto_rows": null,
            "grid_column": null,
            "grid_gap": null,
            "grid_row": null,
            "grid_template_areas": null,
            "grid_template_columns": null,
            "grid_template_rows": null,
            "height": null,
            "justify_content": null,
            "justify_items": null,
            "left": null,
            "margin": null,
            "max_height": null,
            "max_width": null,
            "min_height": null,
            "min_width": null,
            "object_fit": null,
            "object_position": null,
            "order": null,
            "overflow": null,
            "overflow_x": null,
            "overflow_y": null,
            "padding": null,
            "right": null,
            "top": null,
            "visibility": null,
            "width": null
          }
        },
        "4a5d83c1787f480fb782d7f4d1fba9f8": {
          "model_module": "@jupyter-widgets/base",
          "model_name": "LayoutModel",
          "model_module_version": "1.2.0",
          "state": {
            "_model_module": "@jupyter-widgets/base",
            "_model_module_version": "1.2.0",
            "_model_name": "LayoutModel",
            "_view_count": null,
            "_view_module": "@jupyter-widgets/base",
            "_view_module_version": "1.2.0",
            "_view_name": "LayoutView",
            "align_content": null,
            "align_items": null,
            "align_self": null,
            "border": null,
            "bottom": null,
            "display": null,
            "flex": null,
            "flex_flow": null,
            "grid_area": null,
            "grid_auto_columns": null,
            "grid_auto_flow": null,
            "grid_auto_rows": null,
            "grid_column": null,
            "grid_gap": null,
            "grid_row": null,
            "grid_template_areas": null,
            "grid_template_columns": null,
            "grid_template_rows": null,
            "height": null,
            "justify_content": null,
            "justify_items": null,
            "left": null,
            "margin": null,
            "max_height": null,
            "max_width": null,
            "min_height": null,
            "min_width": null,
            "object_fit": null,
            "object_position": null,
            "order": null,
            "overflow": null,
            "overflow_x": null,
            "overflow_y": null,
            "padding": null,
            "right": null,
            "top": null,
            "visibility": null,
            "width": null
          }
        },
        "1a4114d6ca78403b94fc2b452f051195": {
          "model_module": "@jupyter-widgets/controls",
          "model_name": "DescriptionStyleModel",
          "model_module_version": "1.5.0",
          "state": {
            "_model_module": "@jupyter-widgets/controls",
            "_model_module_version": "1.5.0",
            "_model_name": "DescriptionStyleModel",
            "_view_count": null,
            "_view_module": "@jupyter-widgets/base",
            "_view_module_version": "1.2.0",
            "_view_name": "StyleView",
            "description_width": ""
          }
        },
        "89f2b0b6af3b451a8cc5b8427386636f": {
          "model_module": "@jupyter-widgets/base",
          "model_name": "LayoutModel",
          "model_module_version": "1.2.0",
          "state": {
            "_model_module": "@jupyter-widgets/base",
            "_model_module_version": "1.2.0",
            "_model_name": "LayoutModel",
            "_view_count": null,
            "_view_module": "@jupyter-widgets/base",
            "_view_module_version": "1.2.0",
            "_view_name": "LayoutView",
            "align_content": null,
            "align_items": null,
            "align_self": null,
            "border": null,
            "bottom": null,
            "display": null,
            "flex": null,
            "flex_flow": null,
            "grid_area": null,
            "grid_auto_columns": null,
            "grid_auto_flow": null,
            "grid_auto_rows": null,
            "grid_column": null,
            "grid_gap": null,
            "grid_row": null,
            "grid_template_areas": null,
            "grid_template_columns": null,
            "grid_template_rows": null,
            "height": null,
            "justify_content": null,
            "justify_items": null,
            "left": null,
            "margin": null,
            "max_height": null,
            "max_width": null,
            "min_height": null,
            "min_width": null,
            "object_fit": null,
            "object_position": null,
            "order": null,
            "overflow": null,
            "overflow_x": null,
            "overflow_y": null,
            "padding": null,
            "right": null,
            "top": null,
            "visibility": null,
            "width": null
          }
        },
        "ff48c76fbfc24a77a04f208cdedf99cb": {
          "model_module": "@jupyter-widgets/controls",
          "model_name": "ProgressStyleModel",
          "model_module_version": "1.5.0",
          "state": {
            "_model_module": "@jupyter-widgets/controls",
            "_model_module_version": "1.5.0",
            "_model_name": "ProgressStyleModel",
            "_view_count": null,
            "_view_module": "@jupyter-widgets/base",
            "_view_module_version": "1.2.0",
            "_view_name": "StyleView",
            "bar_color": null,
            "description_width": ""
          }
        },
        "2e4f469986ac4b2c93083b351b1ec4bd": {
          "model_module": "@jupyter-widgets/base",
          "model_name": "LayoutModel",
          "model_module_version": "1.2.0",
          "state": {
            "_model_module": "@jupyter-widgets/base",
            "_model_module_version": "1.2.0",
            "_model_name": "LayoutModel",
            "_view_count": null,
            "_view_module": "@jupyter-widgets/base",
            "_view_module_version": "1.2.0",
            "_view_name": "LayoutView",
            "align_content": null,
            "align_items": null,
            "align_self": null,
            "border": null,
            "bottom": null,
            "display": null,
            "flex": null,
            "flex_flow": null,
            "grid_area": null,
            "grid_auto_columns": null,
            "grid_auto_flow": null,
            "grid_auto_rows": null,
            "grid_column": null,
            "grid_gap": null,
            "grid_row": null,
            "grid_template_areas": null,
            "grid_template_columns": null,
            "grid_template_rows": null,
            "height": null,
            "justify_content": null,
            "justify_items": null,
            "left": null,
            "margin": null,
            "max_height": null,
            "max_width": null,
            "min_height": null,
            "min_width": null,
            "object_fit": null,
            "object_position": null,
            "order": null,
            "overflow": null,
            "overflow_x": null,
            "overflow_y": null,
            "padding": null,
            "right": null,
            "top": null,
            "visibility": null,
            "width": null
          }
        },
        "6eebf06255f74aa99dab9b0282a6c302": {
          "model_module": "@jupyter-widgets/controls",
          "model_name": "DescriptionStyleModel",
          "model_module_version": "1.5.0",
          "state": {
            "_model_module": "@jupyter-widgets/controls",
            "_model_module_version": "1.5.0",
            "_model_name": "DescriptionStyleModel",
            "_view_count": null,
            "_view_module": "@jupyter-widgets/base",
            "_view_module_version": "1.2.0",
            "_view_name": "StyleView",
            "description_width": ""
          }
        }
      }
    }
  },
  "nbformat": 4,
  "nbformat_minor": 0
}